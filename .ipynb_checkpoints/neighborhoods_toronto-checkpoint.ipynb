{
 "cells": [
  {
   "cell_type": "markdown",
   "metadata": {},
   "source": [
    "## Analyzing Canada's Neighborhood"
   ]
  },
  {
   "cell_type": "markdown",
   "metadata": {},
   "source": [
    "### 1- Import the libraries"
   ]
  },
  {
   "cell_type": "code",
   "execution_count": 167,
   "metadata": {},
   "outputs": [],
   "source": [
    "from bs4 import BeautifulSoup\n",
    "import pandas as pd\n",
    "import numpy\n",
    "import requests"
   ]
  },
  {
   "cell_type": "markdown",
   "metadata": {},
   "source": [
    "### 2- Scraping the web page "
   ]
  },
  {
   "cell_type": "code",
   "execution_count": 168,
   "metadata": {},
   "outputs": [],
   "source": [
    "site = requests.get('https://en.wikipedia.org/wiki/List_of_postal_codes_of_Canada:_M')"
   ]
  },
  {
   "cell_type": "markdown",
   "metadata": {},
   "source": [
    "#### If the result starts with number two, the page was successfully accessed"
   ]
  },
  {
   "cell_type": "code",
   "execution_count": 169,
   "metadata": {},
   "outputs": [
    {
     "data": {
      "text/plain": [
       "200"
      ]
     },
     "execution_count": 169,
     "metadata": {},
     "output_type": "execute_result"
    }
   ],
   "source": [
    "site.status_code"
   ]
  },
  {
   "cell_type": "markdown",
   "metadata": {},
   "source": [
    "#### Create a BeautifulSoup object"
   ]
  },
  {
   "cell_type": "code",
   "execution_count": 170,
   "metadata": {},
   "outputs": [],
   "source": [
    "soup = BeautifulSoup(site.content, 'html.parser')"
   ]
  },
  {
   "cell_type": "markdown",
   "metadata": {},
   "source": [
    "#### Check the title of web page"
   ]
  },
  {
   "cell_type": "code",
   "execution_count": 563,
   "metadata": {},
   "outputs": [
    {
     "name": "stdout",
     "output_type": "stream",
     "text": [
      "<title>List of postal codes of Canada: M - Wikipedia</title>\n"
     ]
    }
   ],
   "source": [
    "print(soup.title)"
   ]
  },
  {
   "cell_type": "markdown",
   "metadata": {},
   "source": [
    "#### Find and create a list of the table"
   ]
  },
  {
   "cell_type": "code",
   "execution_count": 569,
   "metadata": {},
   "outputs": [
    {
     "name": "stdout",
     "output_type": "stream",
     "text": [
      "[<th>Postcode</th>, <th>Borough</th>, <th>Neighbourhood\n",
      "</th>]\n"
     ]
    }
   ],
   "source": [
    "table_html = soup.table\n",
    "print(table_html.find_all('th'))"
   ]
  },
  {
   "cell_type": "code",
   "execution_count": 629,
   "metadata": {},
   "outputs": [],
   "source": [
    "table = [text.get_text() for text in table_html.find_all('td')]"
   ]
  },
  {
   "cell_type": "code",
   "execution_count": 630,
   "metadata": {},
   "outputs": [
    {
     "data": {
      "text/plain": [
       "['M1A', 'Not assigned', 'Not assigned\\n']"
      ]
     },
     "execution_count": 630,
     "metadata": {},
     "output_type": "execute_result"
    }
   ],
   "source": [
    "table[:3]"
   ]
  },
  {
   "cell_type": "markdown",
   "metadata": {},
   "source": [
    "#### Create a list with the Postcode, Borough and Neighbourhood"
   ]
  },
  {
   "cell_type": "code",
   "execution_count": 631,
   "metadata": {},
   "outputs": [
    {
     "data": {
      "text/plain": [
       "['M1A', 'M2A', 'M3A']"
      ]
     },
     "execution_count": 631,
     "metadata": {},
     "output_type": "execute_result"
    }
   ],
   "source": [
    "postcode = [table[i] for i in range(0, len(table), 3)]\n",
    "postcode[:3]"
   ]
  },
  {
   "cell_type": "code",
   "execution_count": 632,
   "metadata": {},
   "outputs": [
    {
     "data": {
      "text/plain": [
       "['Not assigned', 'Not assigned', 'North York']"
      ]
     },
     "execution_count": 632,
     "metadata": {},
     "output_type": "execute_result"
    }
   ],
   "source": [
    "borough = [table[i] for i in range(1, len(table), 3)]\n",
    "borough[:3]"
   ]
  },
  {
   "cell_type": "code",
   "execution_count": 633,
   "metadata": {},
   "outputs": [
    {
     "data": {
      "text/plain": [
       "['Not assigned', 'Not assigned', 'Parkwoods']"
      ]
     },
     "execution_count": 633,
     "metadata": {},
     "output_type": "execute_result"
    }
   ],
   "source": [
    "neighbourhood = [table[i] for i in range(2, len(table), 3)]\n",
    "neighbourhood = [s.replace('\\n', '') for s in neighbourhood]\n",
    "neighbourhood = [s.replace('Not assigned', borough[i]) for i, s in enumerate(neighbourhood)]\n",
    "neighbourhood[:3]"
   ]
  },
  {
   "cell_type": "markdown",
   "metadata": {},
   "source": [
    "#### Create a dictionary"
   ]
  },
  {
   "cell_type": "code",
   "execution_count": 634,
   "metadata": {},
   "outputs": [],
   "source": [
    "dict_table = {\n",
    "    'Postcode': postcode,\n",
    "    'Borough': borough,\n",
    "    'Neighbourhood': neighbourhood}"
   ]
  },
  {
   "cell_type": "markdown",
   "metadata": {},
   "source": [
    "#### Group the Neighbourhood with PostCode"
   ]
  },
  {
   "cell_type": "code",
   "execution_count": 635,
   "metadata": {},
   "outputs": [],
   "source": [
    "for j in range(3):\n",
    "    for i, v in enumerate(dict_table['Postcode']):\n",
    "        if i == 0:\n",
    "            continue\n",
    "        if v == dict_table['Postcode'][i-1]:\n",
    "            del dict_table['Postcode'][i-1]\n",
    "\n",
    "            del dict_table['Borough'][i-1]\n",
    "\n",
    "            dict_table['Neighbourhood'][i] += (', ' + dict_table['Neighbourhood'][i-1])\n",
    "            del dict_table['Neighbourhood'][i-1]\n",
    "#dict_table"
   ]
  },
  {
   "cell_type": "markdown",
   "metadata": {},
   "source": [
    "### 3- Creating a Pandas DataFrame"
   ]
  },
  {
   "cell_type": "code",
   "execution_count": 636,
   "metadata": {},
   "outputs": [],
   "source": [
    "df_table = pd.DataFrame(dict_table, columns=['Postcode', 'Borough', 'Neighbourhood'])"
   ]
  },
  {
   "cell_type": "markdown",
   "metadata": {},
   "source": [
    "#### Clean and drop the row with 'Not assigned'"
   ]
  },
  {
   "cell_type": "code",
   "execution_count": 637,
   "metadata": {},
   "outputs": [],
   "source": [
    "not_assign = df_table[((df_table['Borough'] == 'Not assigned'))].index"
   ]
  },
  {
   "cell_type": "code",
   "execution_count": 638,
   "metadata": {},
   "outputs": [],
   "source": [
    "df_table.drop(not_assign, inplace=True)"
   ]
  },
  {
   "cell_type": "markdown",
   "metadata": {},
   "source": [
    "#### Displaying the final result"
   ]
  },
  {
   "cell_type": "code",
   "execution_count": 639,
   "metadata": {},
   "outputs": [
    {
     "data": {
      "text/html": [
       "<style  type=\"text/css\" >\n",
       "</style><table id=\"T_8c4fe89e_5443_11ea_9973_42010a8a0002\" ><thead>    <tr>        <th class=\"blank level0\" ></th>        <th class=\"col_heading level0 col0\" >Postcode</th>        <th class=\"col_heading level0 col1\" >Borough</th>        <th class=\"col_heading level0 col2\" >Neighbourhood</th>    </tr></thead><tbody>\n",
       "                <tr>\n",
       "                        <th id=\"T_8c4fe89e_5443_11ea_9973_42010a8a0002level0_row0\" class=\"row_heading level0 row0\" >2</th>\n",
       "                        <td id=\"T_8c4fe89e_5443_11ea_9973_42010a8a0002row0_col0\" class=\"data row0 col0\" >M3A</td>\n",
       "                        <td id=\"T_8c4fe89e_5443_11ea_9973_42010a8a0002row0_col1\" class=\"data row0 col1\" >North York</td>\n",
       "                        <td id=\"T_8c4fe89e_5443_11ea_9973_42010a8a0002row0_col2\" class=\"data row0 col2\" >Parkwoods</td>\n",
       "            </tr>\n",
       "            <tr>\n",
       "                        <th id=\"T_8c4fe89e_5443_11ea_9973_42010a8a0002level0_row1\" class=\"row_heading level0 row1\" >3</th>\n",
       "                        <td id=\"T_8c4fe89e_5443_11ea_9973_42010a8a0002row1_col0\" class=\"data row1 col0\" >M4A</td>\n",
       "                        <td id=\"T_8c4fe89e_5443_11ea_9973_42010a8a0002row1_col1\" class=\"data row1 col1\" >North York</td>\n",
       "                        <td id=\"T_8c4fe89e_5443_11ea_9973_42010a8a0002row1_col2\" class=\"data row1 col2\" >Victoria Village</td>\n",
       "            </tr>\n",
       "            <tr>\n",
       "                        <th id=\"T_8c4fe89e_5443_11ea_9973_42010a8a0002level0_row2\" class=\"row_heading level0 row2\" >4</th>\n",
       "                        <td id=\"T_8c4fe89e_5443_11ea_9973_42010a8a0002row2_col0\" class=\"data row2 col0\" >M5A</td>\n",
       "                        <td id=\"T_8c4fe89e_5443_11ea_9973_42010a8a0002row2_col1\" class=\"data row2 col1\" >Downtown Toronto</td>\n",
       "                        <td id=\"T_8c4fe89e_5443_11ea_9973_42010a8a0002row2_col2\" class=\"data row2 col2\" >Harbourfront</td>\n",
       "            </tr>\n",
       "            <tr>\n",
       "                        <th id=\"T_8c4fe89e_5443_11ea_9973_42010a8a0002level0_row3\" class=\"row_heading level0 row3\" >5</th>\n",
       "                        <td id=\"T_8c4fe89e_5443_11ea_9973_42010a8a0002row3_col0\" class=\"data row3 col0\" >M6A</td>\n",
       "                        <td id=\"T_8c4fe89e_5443_11ea_9973_42010a8a0002row3_col1\" class=\"data row3 col1\" >North York</td>\n",
       "                        <td id=\"T_8c4fe89e_5443_11ea_9973_42010a8a0002row3_col2\" class=\"data row3 col2\" >Lawrence Manor, Lawrence Heights</td>\n",
       "            </tr>\n",
       "            <tr>\n",
       "                        <th id=\"T_8c4fe89e_5443_11ea_9973_42010a8a0002level0_row4\" class=\"row_heading level0 row4\" >6</th>\n",
       "                        <td id=\"T_8c4fe89e_5443_11ea_9973_42010a8a0002row4_col0\" class=\"data row4 col0\" >M7A</td>\n",
       "                        <td id=\"T_8c4fe89e_5443_11ea_9973_42010a8a0002row4_col1\" class=\"data row4 col1\" >Downtown Toronto</td>\n",
       "                        <td id=\"T_8c4fe89e_5443_11ea_9973_42010a8a0002row4_col2\" class=\"data row4 col2\" >Queen's Park</td>\n",
       "            </tr>\n",
       "            <tr>\n",
       "                        <th id=\"T_8c4fe89e_5443_11ea_9973_42010a8a0002level0_row5\" class=\"row_heading level0 row5\" >8</th>\n",
       "                        <td id=\"T_8c4fe89e_5443_11ea_9973_42010a8a0002row5_col0\" class=\"data row5 col0\" >M9A</td>\n",
       "                        <td id=\"T_8c4fe89e_5443_11ea_9973_42010a8a0002row5_col1\" class=\"data row5 col1\" >Queen's Park</td>\n",
       "                        <td id=\"T_8c4fe89e_5443_11ea_9973_42010a8a0002row5_col2\" class=\"data row5 col2\" >Queen's Park</td>\n",
       "            </tr>\n",
       "            <tr>\n",
       "                        <th id=\"T_8c4fe89e_5443_11ea_9973_42010a8a0002level0_row6\" class=\"row_heading level0 row6\" >9</th>\n",
       "                        <td id=\"T_8c4fe89e_5443_11ea_9973_42010a8a0002row6_col0\" class=\"data row6 col0\" >M1B</td>\n",
       "                        <td id=\"T_8c4fe89e_5443_11ea_9973_42010a8a0002row6_col1\" class=\"data row6 col1\" >Scarborough</td>\n",
       "                        <td id=\"T_8c4fe89e_5443_11ea_9973_42010a8a0002row6_col2\" class=\"data row6 col2\" >Malvern, Rouge</td>\n",
       "            </tr>\n",
       "            <tr>\n",
       "                        <th id=\"T_8c4fe89e_5443_11ea_9973_42010a8a0002level0_row7\" class=\"row_heading level0 row7\" >11</th>\n",
       "                        <td id=\"T_8c4fe89e_5443_11ea_9973_42010a8a0002row7_col0\" class=\"data row7 col0\" >M3B</td>\n",
       "                        <td id=\"T_8c4fe89e_5443_11ea_9973_42010a8a0002row7_col1\" class=\"data row7 col1\" >North York</td>\n",
       "                        <td id=\"T_8c4fe89e_5443_11ea_9973_42010a8a0002row7_col2\" class=\"data row7 col2\" >Don Mills North</td>\n",
       "            </tr>\n",
       "            <tr>\n",
       "                        <th id=\"T_8c4fe89e_5443_11ea_9973_42010a8a0002level0_row8\" class=\"row_heading level0 row8\" >12</th>\n",
       "                        <td id=\"T_8c4fe89e_5443_11ea_9973_42010a8a0002row8_col0\" class=\"data row8 col0\" >M4B</td>\n",
       "                        <td id=\"T_8c4fe89e_5443_11ea_9973_42010a8a0002row8_col1\" class=\"data row8 col1\" >East York</td>\n",
       "                        <td id=\"T_8c4fe89e_5443_11ea_9973_42010a8a0002row8_col2\" class=\"data row8 col2\" >Parkview Hill, Woodbine Gardens</td>\n",
       "            </tr>\n",
       "            <tr>\n",
       "                        <th id=\"T_8c4fe89e_5443_11ea_9973_42010a8a0002level0_row9\" class=\"row_heading level0 row9\" >13</th>\n",
       "                        <td id=\"T_8c4fe89e_5443_11ea_9973_42010a8a0002row9_col0\" class=\"data row9 col0\" >M5B</td>\n",
       "                        <td id=\"T_8c4fe89e_5443_11ea_9973_42010a8a0002row9_col1\" class=\"data row9 col1\" >Downtown Toronto</td>\n",
       "                        <td id=\"T_8c4fe89e_5443_11ea_9973_42010a8a0002row9_col2\" class=\"data row9 col2\" >Garden District, Ryerson</td>\n",
       "            </tr>\n",
       "            <tr>\n",
       "                        <th id=\"T_8c4fe89e_5443_11ea_9973_42010a8a0002level0_row10\" class=\"row_heading level0 row10\" >14</th>\n",
       "                        <td id=\"T_8c4fe89e_5443_11ea_9973_42010a8a0002row10_col0\" class=\"data row10 col0\" >M6B</td>\n",
       "                        <td id=\"T_8c4fe89e_5443_11ea_9973_42010a8a0002row10_col1\" class=\"data row10 col1\" >North York</td>\n",
       "                        <td id=\"T_8c4fe89e_5443_11ea_9973_42010a8a0002row10_col2\" class=\"data row10 col2\" >Glencairn</td>\n",
       "            </tr>\n",
       "            <tr>\n",
       "                        <th id=\"T_8c4fe89e_5443_11ea_9973_42010a8a0002level0_row11\" class=\"row_heading level0 row11\" >17</th>\n",
       "                        <td id=\"T_8c4fe89e_5443_11ea_9973_42010a8a0002row11_col0\" class=\"data row11 col0\" >M9B</td>\n",
       "                        <td id=\"T_8c4fe89e_5443_11ea_9973_42010a8a0002row11_col1\" class=\"data row11 col1\" >Etobicoke</td>\n",
       "                        <td id=\"T_8c4fe89e_5443_11ea_9973_42010a8a0002row11_col2\" class=\"data row11 col2\" >West Deane Park, Princess Gardens, Martin Grove, Islington, Cloverdale</td>\n",
       "            </tr>\n",
       "            <tr>\n",
       "                        <th id=\"T_8c4fe89e_5443_11ea_9973_42010a8a0002level0_row12\" class=\"row_heading level0 row12\" >18</th>\n",
       "                        <td id=\"T_8c4fe89e_5443_11ea_9973_42010a8a0002row12_col0\" class=\"data row12 col0\" >M1C</td>\n",
       "                        <td id=\"T_8c4fe89e_5443_11ea_9973_42010a8a0002row12_col1\" class=\"data row12 col1\" >Scarborough</td>\n",
       "                        <td id=\"T_8c4fe89e_5443_11ea_9973_42010a8a0002row12_col2\" class=\"data row12 col2\" >Port Union, Rouge Hill, Highland Creek</td>\n",
       "            </tr>\n",
       "            <tr>\n",
       "                        <th id=\"T_8c4fe89e_5443_11ea_9973_42010a8a0002level0_row13\" class=\"row_heading level0 row13\" >20</th>\n",
       "                        <td id=\"T_8c4fe89e_5443_11ea_9973_42010a8a0002row13_col0\" class=\"data row13 col0\" >M3C</td>\n",
       "                        <td id=\"T_8c4fe89e_5443_11ea_9973_42010a8a0002row13_col1\" class=\"data row13 col1\" >North York</td>\n",
       "                        <td id=\"T_8c4fe89e_5443_11ea_9973_42010a8a0002row13_col2\" class=\"data row13 col2\" >Don Mills South, Flemingdon Park</td>\n",
       "            </tr>\n",
       "            <tr>\n",
       "                        <th id=\"T_8c4fe89e_5443_11ea_9973_42010a8a0002level0_row14\" class=\"row_heading level0 row14\" >21</th>\n",
       "                        <td id=\"T_8c4fe89e_5443_11ea_9973_42010a8a0002row14_col0\" class=\"data row14 col0\" >M4C</td>\n",
       "                        <td id=\"T_8c4fe89e_5443_11ea_9973_42010a8a0002row14_col1\" class=\"data row14 col1\" >East York</td>\n",
       "                        <td id=\"T_8c4fe89e_5443_11ea_9973_42010a8a0002row14_col2\" class=\"data row14 col2\" >Woodbine Heights</td>\n",
       "            </tr>\n",
       "            <tr>\n",
       "                        <th id=\"T_8c4fe89e_5443_11ea_9973_42010a8a0002level0_row15\" class=\"row_heading level0 row15\" >22</th>\n",
       "                        <td id=\"T_8c4fe89e_5443_11ea_9973_42010a8a0002row15_col0\" class=\"data row15 col0\" >M5C</td>\n",
       "                        <td id=\"T_8c4fe89e_5443_11ea_9973_42010a8a0002row15_col1\" class=\"data row15 col1\" >Downtown Toronto</td>\n",
       "                        <td id=\"T_8c4fe89e_5443_11ea_9973_42010a8a0002row15_col2\" class=\"data row15 col2\" >St. James Town</td>\n",
       "            </tr>\n",
       "            <tr>\n",
       "                        <th id=\"T_8c4fe89e_5443_11ea_9973_42010a8a0002level0_row16\" class=\"row_heading level0 row16\" >23</th>\n",
       "                        <td id=\"T_8c4fe89e_5443_11ea_9973_42010a8a0002row16_col0\" class=\"data row16 col0\" >M6C</td>\n",
       "                        <td id=\"T_8c4fe89e_5443_11ea_9973_42010a8a0002row16_col1\" class=\"data row16 col1\" >York</td>\n",
       "                        <td id=\"T_8c4fe89e_5443_11ea_9973_42010a8a0002row16_col2\" class=\"data row16 col2\" >Humewood-Cedarvale</td>\n",
       "            </tr>\n",
       "            <tr>\n",
       "                        <th id=\"T_8c4fe89e_5443_11ea_9973_42010a8a0002level0_row17\" class=\"row_heading level0 row17\" >26</th>\n",
       "                        <td id=\"T_8c4fe89e_5443_11ea_9973_42010a8a0002row17_col0\" class=\"data row17 col0\" >M9C</td>\n",
       "                        <td id=\"T_8c4fe89e_5443_11ea_9973_42010a8a0002row17_col1\" class=\"data row17 col1\" >Etobicoke</td>\n",
       "                        <td id=\"T_8c4fe89e_5443_11ea_9973_42010a8a0002row17_col2\" class=\"data row17 col2\" >Old Burnhamthorpe, Markland Wood, Eringate, Bloordale Gardens</td>\n",
       "            </tr>\n",
       "            <tr>\n",
       "                        <th id=\"T_8c4fe89e_5443_11ea_9973_42010a8a0002level0_row18\" class=\"row_heading level0 row18\" >27</th>\n",
       "                        <td id=\"T_8c4fe89e_5443_11ea_9973_42010a8a0002row18_col0\" class=\"data row18 col0\" >M1E</td>\n",
       "                        <td id=\"T_8c4fe89e_5443_11ea_9973_42010a8a0002row18_col1\" class=\"data row18 col1\" >Scarborough</td>\n",
       "                        <td id=\"T_8c4fe89e_5443_11ea_9973_42010a8a0002row18_col2\" class=\"data row18 col2\" >West Hill, Morningside, Guildwood</td>\n",
       "            </tr>\n",
       "            <tr>\n",
       "                        <th id=\"T_8c4fe89e_5443_11ea_9973_42010a8a0002level0_row19\" class=\"row_heading level0 row19\" >30</th>\n",
       "                        <td id=\"T_8c4fe89e_5443_11ea_9973_42010a8a0002row19_col0\" class=\"data row19 col0\" >M4E</td>\n",
       "                        <td id=\"T_8c4fe89e_5443_11ea_9973_42010a8a0002row19_col1\" class=\"data row19 col1\" >East Toronto</td>\n",
       "                        <td id=\"T_8c4fe89e_5443_11ea_9973_42010a8a0002row19_col2\" class=\"data row19 col2\" >The Beaches</td>\n",
       "            </tr>\n",
       "            <tr>\n",
       "                        <th id=\"T_8c4fe89e_5443_11ea_9973_42010a8a0002level0_row20\" class=\"row_heading level0 row20\" >31</th>\n",
       "                        <td id=\"T_8c4fe89e_5443_11ea_9973_42010a8a0002row20_col0\" class=\"data row20 col0\" >M5E</td>\n",
       "                        <td id=\"T_8c4fe89e_5443_11ea_9973_42010a8a0002row20_col1\" class=\"data row20 col1\" >Downtown Toronto</td>\n",
       "                        <td id=\"T_8c4fe89e_5443_11ea_9973_42010a8a0002row20_col2\" class=\"data row20 col2\" >Berczy Park</td>\n",
       "            </tr>\n",
       "            <tr>\n",
       "                        <th id=\"T_8c4fe89e_5443_11ea_9973_42010a8a0002level0_row21\" class=\"row_heading level0 row21\" >32</th>\n",
       "                        <td id=\"T_8c4fe89e_5443_11ea_9973_42010a8a0002row21_col0\" class=\"data row21 col0\" >M6E</td>\n",
       "                        <td id=\"T_8c4fe89e_5443_11ea_9973_42010a8a0002row21_col1\" class=\"data row21 col1\" >York</td>\n",
       "                        <td id=\"T_8c4fe89e_5443_11ea_9973_42010a8a0002row21_col2\" class=\"data row21 col2\" >Caledonia-Fairbanks</td>\n",
       "            </tr>\n",
       "            <tr>\n",
       "                        <th id=\"T_8c4fe89e_5443_11ea_9973_42010a8a0002level0_row22\" class=\"row_heading level0 row22\" >36</th>\n",
       "                        <td id=\"T_8c4fe89e_5443_11ea_9973_42010a8a0002row22_col0\" class=\"data row22 col0\" >M1G</td>\n",
       "                        <td id=\"T_8c4fe89e_5443_11ea_9973_42010a8a0002row22_col1\" class=\"data row22 col1\" >Scarborough</td>\n",
       "                        <td id=\"T_8c4fe89e_5443_11ea_9973_42010a8a0002row22_col2\" class=\"data row22 col2\" >Woburn</td>\n",
       "            </tr>\n",
       "            <tr>\n",
       "                        <th id=\"T_8c4fe89e_5443_11ea_9973_42010a8a0002level0_row23\" class=\"row_heading level0 row23\" >39</th>\n",
       "                        <td id=\"T_8c4fe89e_5443_11ea_9973_42010a8a0002row23_col0\" class=\"data row23 col0\" >M4G</td>\n",
       "                        <td id=\"T_8c4fe89e_5443_11ea_9973_42010a8a0002row23_col1\" class=\"data row23 col1\" >East York</td>\n",
       "                        <td id=\"T_8c4fe89e_5443_11ea_9973_42010a8a0002row23_col2\" class=\"data row23 col2\" >Leaside</td>\n",
       "            </tr>\n",
       "            <tr>\n",
       "                        <th id=\"T_8c4fe89e_5443_11ea_9973_42010a8a0002level0_row24\" class=\"row_heading level0 row24\" >40</th>\n",
       "                        <td id=\"T_8c4fe89e_5443_11ea_9973_42010a8a0002row24_col0\" class=\"data row24 col0\" >M5G</td>\n",
       "                        <td id=\"T_8c4fe89e_5443_11ea_9973_42010a8a0002row24_col1\" class=\"data row24 col1\" >Downtown Toronto</td>\n",
       "                        <td id=\"T_8c4fe89e_5443_11ea_9973_42010a8a0002row24_col2\" class=\"data row24 col2\" >Central Bay Street</td>\n",
       "            </tr>\n",
       "            <tr>\n",
       "                        <th id=\"T_8c4fe89e_5443_11ea_9973_42010a8a0002level0_row25\" class=\"row_heading level0 row25\" >41</th>\n",
       "                        <td id=\"T_8c4fe89e_5443_11ea_9973_42010a8a0002row25_col0\" class=\"data row25 col0\" >M6G</td>\n",
       "                        <td id=\"T_8c4fe89e_5443_11ea_9973_42010a8a0002row25_col1\" class=\"data row25 col1\" >Downtown Toronto</td>\n",
       "                        <td id=\"T_8c4fe89e_5443_11ea_9973_42010a8a0002row25_col2\" class=\"data row25 col2\" >Christie</td>\n",
       "            </tr>\n",
       "            <tr>\n",
       "                        <th id=\"T_8c4fe89e_5443_11ea_9973_42010a8a0002level0_row26\" class=\"row_heading level0 row26\" >45</th>\n",
       "                        <td id=\"T_8c4fe89e_5443_11ea_9973_42010a8a0002row26_col0\" class=\"data row26 col0\" >M1H</td>\n",
       "                        <td id=\"T_8c4fe89e_5443_11ea_9973_42010a8a0002row26_col1\" class=\"data row26 col1\" >Scarborough</td>\n",
       "                        <td id=\"T_8c4fe89e_5443_11ea_9973_42010a8a0002row26_col2\" class=\"data row26 col2\" >Cedarbrae</td>\n",
       "            </tr>\n",
       "            <tr>\n",
       "                        <th id=\"T_8c4fe89e_5443_11ea_9973_42010a8a0002level0_row27\" class=\"row_heading level0 row27\" >46</th>\n",
       "                        <td id=\"T_8c4fe89e_5443_11ea_9973_42010a8a0002row27_col0\" class=\"data row27 col0\" >M2H</td>\n",
       "                        <td id=\"T_8c4fe89e_5443_11ea_9973_42010a8a0002row27_col1\" class=\"data row27 col1\" >North York</td>\n",
       "                        <td id=\"T_8c4fe89e_5443_11ea_9973_42010a8a0002row27_col2\" class=\"data row27 col2\" >Hillcrest Village</td>\n",
       "            </tr>\n",
       "            <tr>\n",
       "                        <th id=\"T_8c4fe89e_5443_11ea_9973_42010a8a0002level0_row28\" class=\"row_heading level0 row28\" >47</th>\n",
       "                        <td id=\"T_8c4fe89e_5443_11ea_9973_42010a8a0002row28_col0\" class=\"data row28 col0\" >M3H</td>\n",
       "                        <td id=\"T_8c4fe89e_5443_11ea_9973_42010a8a0002row28_col1\" class=\"data row28 col1\" >North York</td>\n",
       "                        <td id=\"T_8c4fe89e_5443_11ea_9973_42010a8a0002row28_col2\" class=\"data row28 col2\" >Wilson Heights, Downsview North, Bathurst Manor</td>\n",
       "            </tr>\n",
       "            <tr>\n",
       "                        <th id=\"T_8c4fe89e_5443_11ea_9973_42010a8a0002level0_row29\" class=\"row_heading level0 row29\" >48</th>\n",
       "                        <td id=\"T_8c4fe89e_5443_11ea_9973_42010a8a0002row29_col0\" class=\"data row29 col0\" >M4H</td>\n",
       "                        <td id=\"T_8c4fe89e_5443_11ea_9973_42010a8a0002row29_col1\" class=\"data row29 col1\" >East York</td>\n",
       "                        <td id=\"T_8c4fe89e_5443_11ea_9973_42010a8a0002row29_col2\" class=\"data row29 col2\" >Thorncliffe Park</td>\n",
       "            </tr>\n",
       "            <tr>\n",
       "                        <th id=\"T_8c4fe89e_5443_11ea_9973_42010a8a0002level0_row30\" class=\"row_heading level0 row30\" >49</th>\n",
       "                        <td id=\"T_8c4fe89e_5443_11ea_9973_42010a8a0002row30_col0\" class=\"data row30 col0\" >M5H</td>\n",
       "                        <td id=\"T_8c4fe89e_5443_11ea_9973_42010a8a0002row30_col1\" class=\"data row30 col1\" >Downtown Toronto</td>\n",
       "                        <td id=\"T_8c4fe89e_5443_11ea_9973_42010a8a0002row30_col2\" class=\"data row30 col2\" >Richmond, King, Adelaide</td>\n",
       "            </tr>\n",
       "            <tr>\n",
       "                        <th id=\"T_8c4fe89e_5443_11ea_9973_42010a8a0002level0_row31\" class=\"row_heading level0 row31\" >50</th>\n",
       "                        <td id=\"T_8c4fe89e_5443_11ea_9973_42010a8a0002row31_col0\" class=\"data row31 col0\" >M6H</td>\n",
       "                        <td id=\"T_8c4fe89e_5443_11ea_9973_42010a8a0002row31_col1\" class=\"data row31 col1\" >West Toronto</td>\n",
       "                        <td id=\"T_8c4fe89e_5443_11ea_9973_42010a8a0002row31_col2\" class=\"data row31 col2\" >Dufferin, Dovercourt Village</td>\n",
       "            </tr>\n",
       "            <tr>\n",
       "                        <th id=\"T_8c4fe89e_5443_11ea_9973_42010a8a0002level0_row32\" class=\"row_heading level0 row32\" >54</th>\n",
       "                        <td id=\"T_8c4fe89e_5443_11ea_9973_42010a8a0002row32_col0\" class=\"data row32 col0\" >M1J</td>\n",
       "                        <td id=\"T_8c4fe89e_5443_11ea_9973_42010a8a0002row32_col1\" class=\"data row32 col1\" >Scarborough</td>\n",
       "                        <td id=\"T_8c4fe89e_5443_11ea_9973_42010a8a0002row32_col2\" class=\"data row32 col2\" >Scarborough Village</td>\n",
       "            </tr>\n",
       "            <tr>\n",
       "                        <th id=\"T_8c4fe89e_5443_11ea_9973_42010a8a0002level0_row33\" class=\"row_heading level0 row33\" >55</th>\n",
       "                        <td id=\"T_8c4fe89e_5443_11ea_9973_42010a8a0002row33_col0\" class=\"data row33 col0\" >M2J</td>\n",
       "                        <td id=\"T_8c4fe89e_5443_11ea_9973_42010a8a0002row33_col1\" class=\"data row33 col1\" >North York</td>\n",
       "                        <td id=\"T_8c4fe89e_5443_11ea_9973_42010a8a0002row33_col2\" class=\"data row33 col2\" >Oriole, Henry Farm, Fairview</td>\n",
       "            </tr>\n",
       "            <tr>\n",
       "                        <th id=\"T_8c4fe89e_5443_11ea_9973_42010a8a0002level0_row34\" class=\"row_heading level0 row34\" >56</th>\n",
       "                        <td id=\"T_8c4fe89e_5443_11ea_9973_42010a8a0002row34_col0\" class=\"data row34 col0\" >M3J</td>\n",
       "                        <td id=\"T_8c4fe89e_5443_11ea_9973_42010a8a0002row34_col1\" class=\"data row34 col1\" >North York</td>\n",
       "                        <td id=\"T_8c4fe89e_5443_11ea_9973_42010a8a0002row34_col2\" class=\"data row34 col2\" >York University, Northwood Park</td>\n",
       "            </tr>\n",
       "            <tr>\n",
       "                        <th id=\"T_8c4fe89e_5443_11ea_9973_42010a8a0002level0_row35\" class=\"row_heading level0 row35\" >57</th>\n",
       "                        <td id=\"T_8c4fe89e_5443_11ea_9973_42010a8a0002row35_col0\" class=\"data row35 col0\" >M4J</td>\n",
       "                        <td id=\"T_8c4fe89e_5443_11ea_9973_42010a8a0002row35_col1\" class=\"data row35 col1\" >East York</td>\n",
       "                        <td id=\"T_8c4fe89e_5443_11ea_9973_42010a8a0002row35_col2\" class=\"data row35 col2\" >East Toronto</td>\n",
       "            </tr>\n",
       "            <tr>\n",
       "                        <th id=\"T_8c4fe89e_5443_11ea_9973_42010a8a0002level0_row36\" class=\"row_heading level0 row36\" >58</th>\n",
       "                        <td id=\"T_8c4fe89e_5443_11ea_9973_42010a8a0002row36_col0\" class=\"data row36 col0\" >M5J</td>\n",
       "                        <td id=\"T_8c4fe89e_5443_11ea_9973_42010a8a0002row36_col1\" class=\"data row36 col1\" >Downtown Toronto</td>\n",
       "                        <td id=\"T_8c4fe89e_5443_11ea_9973_42010a8a0002row36_col2\" class=\"data row36 col2\" >Union Station, Toronto Islands, Harbourfront East</td>\n",
       "            </tr>\n",
       "            <tr>\n",
       "                        <th id=\"T_8c4fe89e_5443_11ea_9973_42010a8a0002level0_row37\" class=\"row_heading level0 row37\" >59</th>\n",
       "                        <td id=\"T_8c4fe89e_5443_11ea_9973_42010a8a0002row37_col0\" class=\"data row37 col0\" >M6J</td>\n",
       "                        <td id=\"T_8c4fe89e_5443_11ea_9973_42010a8a0002row37_col1\" class=\"data row37 col1\" >West Toronto</td>\n",
       "                        <td id=\"T_8c4fe89e_5443_11ea_9973_42010a8a0002row37_col2\" class=\"data row37 col2\" >Trinity, Little Portugal</td>\n",
       "            </tr>\n",
       "            <tr>\n",
       "                        <th id=\"T_8c4fe89e_5443_11ea_9973_42010a8a0002level0_row38\" class=\"row_heading level0 row38\" >63</th>\n",
       "                        <td id=\"T_8c4fe89e_5443_11ea_9973_42010a8a0002row38_col0\" class=\"data row38 col0\" >M1K</td>\n",
       "                        <td id=\"T_8c4fe89e_5443_11ea_9973_42010a8a0002row38_col1\" class=\"data row38 col1\" >Scarborough</td>\n",
       "                        <td id=\"T_8c4fe89e_5443_11ea_9973_42010a8a0002row38_col2\" class=\"data row38 col2\" >Kennedy Park, Ionview, East Birchmount Park</td>\n",
       "            </tr>\n",
       "            <tr>\n",
       "                        <th id=\"T_8c4fe89e_5443_11ea_9973_42010a8a0002level0_row39\" class=\"row_heading level0 row39\" >64</th>\n",
       "                        <td id=\"T_8c4fe89e_5443_11ea_9973_42010a8a0002row39_col0\" class=\"data row39 col0\" >M2K</td>\n",
       "                        <td id=\"T_8c4fe89e_5443_11ea_9973_42010a8a0002row39_col1\" class=\"data row39 col1\" >North York</td>\n",
       "                        <td id=\"T_8c4fe89e_5443_11ea_9973_42010a8a0002row39_col2\" class=\"data row39 col2\" >Bayview Village</td>\n",
       "            </tr>\n",
       "            <tr>\n",
       "                        <th id=\"T_8c4fe89e_5443_11ea_9973_42010a8a0002level0_row40\" class=\"row_heading level0 row40\" >65</th>\n",
       "                        <td id=\"T_8c4fe89e_5443_11ea_9973_42010a8a0002row40_col0\" class=\"data row40 col0\" >M3K</td>\n",
       "                        <td id=\"T_8c4fe89e_5443_11ea_9973_42010a8a0002row40_col1\" class=\"data row40 col1\" >North York</td>\n",
       "                        <td id=\"T_8c4fe89e_5443_11ea_9973_42010a8a0002row40_col2\" class=\"data row40 col2\" >Downsview East, CFB Toronto</td>\n",
       "            </tr>\n",
       "            <tr>\n",
       "                        <th id=\"T_8c4fe89e_5443_11ea_9973_42010a8a0002level0_row41\" class=\"row_heading level0 row41\" >66</th>\n",
       "                        <td id=\"T_8c4fe89e_5443_11ea_9973_42010a8a0002row41_col0\" class=\"data row41 col0\" >M4K</td>\n",
       "                        <td id=\"T_8c4fe89e_5443_11ea_9973_42010a8a0002row41_col1\" class=\"data row41 col1\" >East Toronto</td>\n",
       "                        <td id=\"T_8c4fe89e_5443_11ea_9973_42010a8a0002row41_col2\" class=\"data row41 col2\" >Riverdale, The Danforth West</td>\n",
       "            </tr>\n",
       "            <tr>\n",
       "                        <th id=\"T_8c4fe89e_5443_11ea_9973_42010a8a0002level0_row42\" class=\"row_heading level0 row42\" >67</th>\n",
       "                        <td id=\"T_8c4fe89e_5443_11ea_9973_42010a8a0002row42_col0\" class=\"data row42 col0\" >M5K</td>\n",
       "                        <td id=\"T_8c4fe89e_5443_11ea_9973_42010a8a0002row42_col1\" class=\"data row42 col1\" >Downtown Toronto</td>\n",
       "                        <td id=\"T_8c4fe89e_5443_11ea_9973_42010a8a0002row42_col2\" class=\"data row42 col2\" >Toronto Dominion Centre, Design Exchange</td>\n",
       "            </tr>\n",
       "            <tr>\n",
       "                        <th id=\"T_8c4fe89e_5443_11ea_9973_42010a8a0002level0_row43\" class=\"row_heading level0 row43\" >68</th>\n",
       "                        <td id=\"T_8c4fe89e_5443_11ea_9973_42010a8a0002row43_col0\" class=\"data row43 col0\" >M6K</td>\n",
       "                        <td id=\"T_8c4fe89e_5443_11ea_9973_42010a8a0002row43_col1\" class=\"data row43 col1\" >West Toronto</td>\n",
       "                        <td id=\"T_8c4fe89e_5443_11ea_9973_42010a8a0002row43_col2\" class=\"data row43 col2\" >Parkdale Village, Exhibition Place, Brockton</td>\n",
       "            </tr>\n",
       "            <tr>\n",
       "                        <th id=\"T_8c4fe89e_5443_11ea_9973_42010a8a0002level0_row44\" class=\"row_heading level0 row44\" >72</th>\n",
       "                        <td id=\"T_8c4fe89e_5443_11ea_9973_42010a8a0002row44_col0\" class=\"data row44 col0\" >M1L</td>\n",
       "                        <td id=\"T_8c4fe89e_5443_11ea_9973_42010a8a0002row44_col1\" class=\"data row44 col1\" >Scarborough</td>\n",
       "                        <td id=\"T_8c4fe89e_5443_11ea_9973_42010a8a0002row44_col2\" class=\"data row44 col2\" >Oakridge, Golden Mile, Clairlea</td>\n",
       "            </tr>\n",
       "            <tr>\n",
       "                        <th id=\"T_8c4fe89e_5443_11ea_9973_42010a8a0002level0_row45\" class=\"row_heading level0 row45\" >73</th>\n",
       "                        <td id=\"T_8c4fe89e_5443_11ea_9973_42010a8a0002row45_col0\" class=\"data row45 col0\" >M2L</td>\n",
       "                        <td id=\"T_8c4fe89e_5443_11ea_9973_42010a8a0002row45_col1\" class=\"data row45 col1\" >North York</td>\n",
       "                        <td id=\"T_8c4fe89e_5443_11ea_9973_42010a8a0002row45_col2\" class=\"data row45 col2\" >York Mills, Silver Hills</td>\n",
       "            </tr>\n",
       "            <tr>\n",
       "                        <th id=\"T_8c4fe89e_5443_11ea_9973_42010a8a0002level0_row46\" class=\"row_heading level0 row46\" >74</th>\n",
       "                        <td id=\"T_8c4fe89e_5443_11ea_9973_42010a8a0002row46_col0\" class=\"data row46 col0\" >M3L</td>\n",
       "                        <td id=\"T_8c4fe89e_5443_11ea_9973_42010a8a0002row46_col1\" class=\"data row46 col1\" >North York</td>\n",
       "                        <td id=\"T_8c4fe89e_5443_11ea_9973_42010a8a0002row46_col2\" class=\"data row46 col2\" >Downsview West</td>\n",
       "            </tr>\n",
       "            <tr>\n",
       "                        <th id=\"T_8c4fe89e_5443_11ea_9973_42010a8a0002level0_row47\" class=\"row_heading level0 row47\" >75</th>\n",
       "                        <td id=\"T_8c4fe89e_5443_11ea_9973_42010a8a0002row47_col0\" class=\"data row47 col0\" >M4L</td>\n",
       "                        <td id=\"T_8c4fe89e_5443_11ea_9973_42010a8a0002row47_col1\" class=\"data row47 col1\" >East Toronto</td>\n",
       "                        <td id=\"T_8c4fe89e_5443_11ea_9973_42010a8a0002row47_col2\" class=\"data row47 col2\" >India Bazaar, The Beaches West</td>\n",
       "            </tr>\n",
       "            <tr>\n",
       "                        <th id=\"T_8c4fe89e_5443_11ea_9973_42010a8a0002level0_row48\" class=\"row_heading level0 row48\" >76</th>\n",
       "                        <td id=\"T_8c4fe89e_5443_11ea_9973_42010a8a0002row48_col0\" class=\"data row48 col0\" >M5L</td>\n",
       "                        <td id=\"T_8c4fe89e_5443_11ea_9973_42010a8a0002row48_col1\" class=\"data row48 col1\" >Downtown Toronto</td>\n",
       "                        <td id=\"T_8c4fe89e_5443_11ea_9973_42010a8a0002row48_col2\" class=\"data row48 col2\" >Victoria Hotel, Commerce Court</td>\n",
       "            </tr>\n",
       "            <tr>\n",
       "                        <th id=\"T_8c4fe89e_5443_11ea_9973_42010a8a0002level0_row49\" class=\"row_heading level0 row49\" >77</th>\n",
       "                        <td id=\"T_8c4fe89e_5443_11ea_9973_42010a8a0002row49_col0\" class=\"data row49 col0\" >M6L</td>\n",
       "                        <td id=\"T_8c4fe89e_5443_11ea_9973_42010a8a0002row49_col1\" class=\"data row49 col1\" >North York</td>\n",
       "                        <td id=\"T_8c4fe89e_5443_11ea_9973_42010a8a0002row49_col2\" class=\"data row49 col2\" >Upwood Park, North Park, Downsview</td>\n",
       "            </tr>\n",
       "            <tr>\n",
       "                        <th id=\"T_8c4fe89e_5443_11ea_9973_42010a8a0002level0_row50\" class=\"row_heading level0 row50\" >80</th>\n",
       "                        <td id=\"T_8c4fe89e_5443_11ea_9973_42010a8a0002row50_col0\" class=\"data row50 col0\" >M9L</td>\n",
       "                        <td id=\"T_8c4fe89e_5443_11ea_9973_42010a8a0002row50_col1\" class=\"data row50 col1\" >North York</td>\n",
       "                        <td id=\"T_8c4fe89e_5443_11ea_9973_42010a8a0002row50_col2\" class=\"data row50 col2\" >Humber Summit</td>\n",
       "            </tr>\n",
       "            <tr>\n",
       "                        <th id=\"T_8c4fe89e_5443_11ea_9973_42010a8a0002level0_row51\" class=\"row_heading level0 row51\" >81</th>\n",
       "                        <td id=\"T_8c4fe89e_5443_11ea_9973_42010a8a0002row51_col0\" class=\"data row51 col0\" >M1M</td>\n",
       "                        <td id=\"T_8c4fe89e_5443_11ea_9973_42010a8a0002row51_col1\" class=\"data row51 col1\" >Scarborough</td>\n",
       "                        <td id=\"T_8c4fe89e_5443_11ea_9973_42010a8a0002row51_col2\" class=\"data row51 col2\" >Scarborough Village West, Cliffside, Cliffcrest</td>\n",
       "            </tr>\n",
       "            <tr>\n",
       "                        <th id=\"T_8c4fe89e_5443_11ea_9973_42010a8a0002level0_row52\" class=\"row_heading level0 row52\" >82</th>\n",
       "                        <td id=\"T_8c4fe89e_5443_11ea_9973_42010a8a0002row52_col0\" class=\"data row52 col0\" >M2M</td>\n",
       "                        <td id=\"T_8c4fe89e_5443_11ea_9973_42010a8a0002row52_col1\" class=\"data row52 col1\" >North York</td>\n",
       "                        <td id=\"T_8c4fe89e_5443_11ea_9973_42010a8a0002row52_col2\" class=\"data row52 col2\" >Willowdale, Newtonbrook</td>\n",
       "            </tr>\n",
       "            <tr>\n",
       "                        <th id=\"T_8c4fe89e_5443_11ea_9973_42010a8a0002level0_row53\" class=\"row_heading level0 row53\" >83</th>\n",
       "                        <td id=\"T_8c4fe89e_5443_11ea_9973_42010a8a0002row53_col0\" class=\"data row53 col0\" >M3M</td>\n",
       "                        <td id=\"T_8c4fe89e_5443_11ea_9973_42010a8a0002row53_col1\" class=\"data row53 col1\" >North York</td>\n",
       "                        <td id=\"T_8c4fe89e_5443_11ea_9973_42010a8a0002row53_col2\" class=\"data row53 col2\" >Downsview Central</td>\n",
       "            </tr>\n",
       "            <tr>\n",
       "                        <th id=\"T_8c4fe89e_5443_11ea_9973_42010a8a0002level0_row54\" class=\"row_heading level0 row54\" >84</th>\n",
       "                        <td id=\"T_8c4fe89e_5443_11ea_9973_42010a8a0002row54_col0\" class=\"data row54 col0\" >M4M</td>\n",
       "                        <td id=\"T_8c4fe89e_5443_11ea_9973_42010a8a0002row54_col1\" class=\"data row54 col1\" >East Toronto</td>\n",
       "                        <td id=\"T_8c4fe89e_5443_11ea_9973_42010a8a0002row54_col2\" class=\"data row54 col2\" >Studio District</td>\n",
       "            </tr>\n",
       "            <tr>\n",
       "                        <th id=\"T_8c4fe89e_5443_11ea_9973_42010a8a0002level0_row55\" class=\"row_heading level0 row55\" >85</th>\n",
       "                        <td id=\"T_8c4fe89e_5443_11ea_9973_42010a8a0002row55_col0\" class=\"data row55 col0\" >M5M</td>\n",
       "                        <td id=\"T_8c4fe89e_5443_11ea_9973_42010a8a0002row55_col1\" class=\"data row55 col1\" >North York</td>\n",
       "                        <td id=\"T_8c4fe89e_5443_11ea_9973_42010a8a0002row55_col2\" class=\"data row55 col2\" >Lawrence Manor East, Bedford Park</td>\n",
       "            </tr>\n",
       "            <tr>\n",
       "                        <th id=\"T_8c4fe89e_5443_11ea_9973_42010a8a0002level0_row56\" class=\"row_heading level0 row56\" >86</th>\n",
       "                        <td id=\"T_8c4fe89e_5443_11ea_9973_42010a8a0002row56_col0\" class=\"data row56 col0\" >M6M</td>\n",
       "                        <td id=\"T_8c4fe89e_5443_11ea_9973_42010a8a0002row56_col1\" class=\"data row56 col1\" >York</td>\n",
       "                        <td id=\"T_8c4fe89e_5443_11ea_9973_42010a8a0002row56_col2\" class=\"data row56 col2\" >Silverthorn, Mount Dennis, Keelesdale, Del Ray</td>\n",
       "            </tr>\n",
       "            <tr>\n",
       "                        <th id=\"T_8c4fe89e_5443_11ea_9973_42010a8a0002level0_row57\" class=\"row_heading level0 row57\" >89</th>\n",
       "                        <td id=\"T_8c4fe89e_5443_11ea_9973_42010a8a0002row57_col0\" class=\"data row57 col0\" >M9M</td>\n",
       "                        <td id=\"T_8c4fe89e_5443_11ea_9973_42010a8a0002row57_col1\" class=\"data row57 col1\" >North York</td>\n",
       "                        <td id=\"T_8c4fe89e_5443_11ea_9973_42010a8a0002row57_col2\" class=\"data row57 col2\" >Humberlea, Emery</td>\n",
       "            </tr>\n",
       "            <tr>\n",
       "                        <th id=\"T_8c4fe89e_5443_11ea_9973_42010a8a0002level0_row58\" class=\"row_heading level0 row58\" >90</th>\n",
       "                        <td id=\"T_8c4fe89e_5443_11ea_9973_42010a8a0002row58_col0\" class=\"data row58 col0\" >M1N</td>\n",
       "                        <td id=\"T_8c4fe89e_5443_11ea_9973_42010a8a0002row58_col1\" class=\"data row58 col1\" >Scarborough</td>\n",
       "                        <td id=\"T_8c4fe89e_5443_11ea_9973_42010a8a0002row58_col2\" class=\"data row58 col2\" >Cliffside West, Birch Cliff</td>\n",
       "            </tr>\n",
       "            <tr>\n",
       "                        <th id=\"T_8c4fe89e_5443_11ea_9973_42010a8a0002level0_row59\" class=\"row_heading level0 row59\" >91</th>\n",
       "                        <td id=\"T_8c4fe89e_5443_11ea_9973_42010a8a0002row59_col0\" class=\"data row59 col0\" >M2N</td>\n",
       "                        <td id=\"T_8c4fe89e_5443_11ea_9973_42010a8a0002row59_col1\" class=\"data row59 col1\" >North York</td>\n",
       "                        <td id=\"T_8c4fe89e_5443_11ea_9973_42010a8a0002row59_col2\" class=\"data row59 col2\" >Willowdale South</td>\n",
       "            </tr>\n",
       "            <tr>\n",
       "                        <th id=\"T_8c4fe89e_5443_11ea_9973_42010a8a0002level0_row60\" class=\"row_heading level0 row60\" >92</th>\n",
       "                        <td id=\"T_8c4fe89e_5443_11ea_9973_42010a8a0002row60_col0\" class=\"data row60 col0\" >M3N</td>\n",
       "                        <td id=\"T_8c4fe89e_5443_11ea_9973_42010a8a0002row60_col1\" class=\"data row60 col1\" >North York</td>\n",
       "                        <td id=\"T_8c4fe89e_5443_11ea_9973_42010a8a0002row60_col2\" class=\"data row60 col2\" >Downsview Northwest</td>\n",
       "            </tr>\n",
       "            <tr>\n",
       "                        <th id=\"T_8c4fe89e_5443_11ea_9973_42010a8a0002level0_row61\" class=\"row_heading level0 row61\" >93</th>\n",
       "                        <td id=\"T_8c4fe89e_5443_11ea_9973_42010a8a0002row61_col0\" class=\"data row61 col0\" >M4N</td>\n",
       "                        <td id=\"T_8c4fe89e_5443_11ea_9973_42010a8a0002row61_col1\" class=\"data row61 col1\" >Central Toronto</td>\n",
       "                        <td id=\"T_8c4fe89e_5443_11ea_9973_42010a8a0002row61_col2\" class=\"data row61 col2\" >Lawrence Park</td>\n",
       "            </tr>\n",
       "            <tr>\n",
       "                        <th id=\"T_8c4fe89e_5443_11ea_9973_42010a8a0002level0_row62\" class=\"row_heading level0 row62\" >94</th>\n",
       "                        <td id=\"T_8c4fe89e_5443_11ea_9973_42010a8a0002row62_col0\" class=\"data row62 col0\" >M5N</td>\n",
       "                        <td id=\"T_8c4fe89e_5443_11ea_9973_42010a8a0002row62_col1\" class=\"data row62 col1\" >Central Toronto</td>\n",
       "                        <td id=\"T_8c4fe89e_5443_11ea_9973_42010a8a0002row62_col2\" class=\"data row62 col2\" >Roselawn</td>\n",
       "            </tr>\n",
       "            <tr>\n",
       "                        <th id=\"T_8c4fe89e_5443_11ea_9973_42010a8a0002level0_row63\" class=\"row_heading level0 row63\" >95</th>\n",
       "                        <td id=\"T_8c4fe89e_5443_11ea_9973_42010a8a0002row63_col0\" class=\"data row63 col0\" >M6N</td>\n",
       "                        <td id=\"T_8c4fe89e_5443_11ea_9973_42010a8a0002row63_col1\" class=\"data row63 col1\" >York</td>\n",
       "                        <td id=\"T_8c4fe89e_5443_11ea_9973_42010a8a0002row63_col2\" class=\"data row63 col2\" >Runnymede, The Junction North</td>\n",
       "            </tr>\n",
       "            <tr>\n",
       "                        <th id=\"T_8c4fe89e_5443_11ea_9973_42010a8a0002level0_row64\" class=\"row_heading level0 row64\" >98</th>\n",
       "                        <td id=\"T_8c4fe89e_5443_11ea_9973_42010a8a0002row64_col0\" class=\"data row64 col0\" >M9N</td>\n",
       "                        <td id=\"T_8c4fe89e_5443_11ea_9973_42010a8a0002row64_col1\" class=\"data row64 col1\" >York</td>\n",
       "                        <td id=\"T_8c4fe89e_5443_11ea_9973_42010a8a0002row64_col2\" class=\"data row64 col2\" >Weston</td>\n",
       "            </tr>\n",
       "            <tr>\n",
       "                        <th id=\"T_8c4fe89e_5443_11ea_9973_42010a8a0002level0_row65\" class=\"row_heading level0 row65\" >99</th>\n",
       "                        <td id=\"T_8c4fe89e_5443_11ea_9973_42010a8a0002row65_col0\" class=\"data row65 col0\" >M1P</td>\n",
       "                        <td id=\"T_8c4fe89e_5443_11ea_9973_42010a8a0002row65_col1\" class=\"data row65 col1\" >Scarborough</td>\n",
       "                        <td id=\"T_8c4fe89e_5443_11ea_9973_42010a8a0002row65_col2\" class=\"data row65 col2\" >Wexford Heights, Scarborough Town Centre, Dorset Park</td>\n",
       "            </tr>\n",
       "            <tr>\n",
       "                        <th id=\"T_8c4fe89e_5443_11ea_9973_42010a8a0002level0_row66\" class=\"row_heading level0 row66\" >100</th>\n",
       "                        <td id=\"T_8c4fe89e_5443_11ea_9973_42010a8a0002row66_col0\" class=\"data row66 col0\" >M2P</td>\n",
       "                        <td id=\"T_8c4fe89e_5443_11ea_9973_42010a8a0002row66_col1\" class=\"data row66 col1\" >North York</td>\n",
       "                        <td id=\"T_8c4fe89e_5443_11ea_9973_42010a8a0002row66_col2\" class=\"data row66 col2\" >York Mills West</td>\n",
       "            </tr>\n",
       "            <tr>\n",
       "                        <th id=\"T_8c4fe89e_5443_11ea_9973_42010a8a0002level0_row67\" class=\"row_heading level0 row67\" >102</th>\n",
       "                        <td id=\"T_8c4fe89e_5443_11ea_9973_42010a8a0002row67_col0\" class=\"data row67 col0\" >M4P</td>\n",
       "                        <td id=\"T_8c4fe89e_5443_11ea_9973_42010a8a0002row67_col1\" class=\"data row67 col1\" >Central Toronto</td>\n",
       "                        <td id=\"T_8c4fe89e_5443_11ea_9973_42010a8a0002row67_col2\" class=\"data row67 col2\" >Davisville North</td>\n",
       "            </tr>\n",
       "            <tr>\n",
       "                        <th id=\"T_8c4fe89e_5443_11ea_9973_42010a8a0002level0_row68\" class=\"row_heading level0 row68\" >103</th>\n",
       "                        <td id=\"T_8c4fe89e_5443_11ea_9973_42010a8a0002row68_col0\" class=\"data row68 col0\" >M5P</td>\n",
       "                        <td id=\"T_8c4fe89e_5443_11ea_9973_42010a8a0002row68_col1\" class=\"data row68 col1\" >Central Toronto</td>\n",
       "                        <td id=\"T_8c4fe89e_5443_11ea_9973_42010a8a0002row68_col2\" class=\"data row68 col2\" >Forest Hill West, Forest Hill North</td>\n",
       "            </tr>\n",
       "            <tr>\n",
       "                        <th id=\"T_8c4fe89e_5443_11ea_9973_42010a8a0002level0_row69\" class=\"row_heading level0 row69\" >104</th>\n",
       "                        <td id=\"T_8c4fe89e_5443_11ea_9973_42010a8a0002row69_col0\" class=\"data row69 col0\" >M6P</td>\n",
       "                        <td id=\"T_8c4fe89e_5443_11ea_9973_42010a8a0002row69_col1\" class=\"data row69 col1\" >West Toronto</td>\n",
       "                        <td id=\"T_8c4fe89e_5443_11ea_9973_42010a8a0002row69_col2\" class=\"data row69 col2\" >The Junction South, High Park</td>\n",
       "            </tr>\n",
       "            <tr>\n",
       "                        <th id=\"T_8c4fe89e_5443_11ea_9973_42010a8a0002level0_row70\" class=\"row_heading level0 row70\" >107</th>\n",
       "                        <td id=\"T_8c4fe89e_5443_11ea_9973_42010a8a0002row70_col0\" class=\"data row70 col0\" >M9P</td>\n",
       "                        <td id=\"T_8c4fe89e_5443_11ea_9973_42010a8a0002row70_col1\" class=\"data row70 col1\" >Etobicoke</td>\n",
       "                        <td id=\"T_8c4fe89e_5443_11ea_9973_42010a8a0002row70_col2\" class=\"data row70 col2\" >Westmount</td>\n",
       "            </tr>\n",
       "            <tr>\n",
       "                        <th id=\"T_8c4fe89e_5443_11ea_9973_42010a8a0002level0_row71\" class=\"row_heading level0 row71\" >108</th>\n",
       "                        <td id=\"T_8c4fe89e_5443_11ea_9973_42010a8a0002row71_col0\" class=\"data row71 col0\" >M1R</td>\n",
       "                        <td id=\"T_8c4fe89e_5443_11ea_9973_42010a8a0002row71_col1\" class=\"data row71 col1\" >Scarborough</td>\n",
       "                        <td id=\"T_8c4fe89e_5443_11ea_9973_42010a8a0002row71_col2\" class=\"data row71 col2\" >Wexford, Maryvale</td>\n",
       "            </tr>\n",
       "            <tr>\n",
       "                        <th id=\"T_8c4fe89e_5443_11ea_9973_42010a8a0002level0_row72\" class=\"row_heading level0 row72\" >109</th>\n",
       "                        <td id=\"T_8c4fe89e_5443_11ea_9973_42010a8a0002row72_col0\" class=\"data row72 col0\" >M2R</td>\n",
       "                        <td id=\"T_8c4fe89e_5443_11ea_9973_42010a8a0002row72_col1\" class=\"data row72 col1\" >North York</td>\n",
       "                        <td id=\"T_8c4fe89e_5443_11ea_9973_42010a8a0002row72_col2\" class=\"data row72 col2\" >Willowdale West</td>\n",
       "            </tr>\n",
       "            <tr>\n",
       "                        <th id=\"T_8c4fe89e_5443_11ea_9973_42010a8a0002level0_row73\" class=\"row_heading level0 row73\" >111</th>\n",
       "                        <td id=\"T_8c4fe89e_5443_11ea_9973_42010a8a0002row73_col0\" class=\"data row73 col0\" >M4R</td>\n",
       "                        <td id=\"T_8c4fe89e_5443_11ea_9973_42010a8a0002row73_col1\" class=\"data row73 col1\" >Central Toronto</td>\n",
       "                        <td id=\"T_8c4fe89e_5443_11ea_9973_42010a8a0002row73_col2\" class=\"data row73 col2\" >North Toronto West</td>\n",
       "            </tr>\n",
       "            <tr>\n",
       "                        <th id=\"T_8c4fe89e_5443_11ea_9973_42010a8a0002level0_row74\" class=\"row_heading level0 row74\" >112</th>\n",
       "                        <td id=\"T_8c4fe89e_5443_11ea_9973_42010a8a0002row74_col0\" class=\"data row74 col0\" >M5R</td>\n",
       "                        <td id=\"T_8c4fe89e_5443_11ea_9973_42010a8a0002row74_col1\" class=\"data row74 col1\" >Central Toronto</td>\n",
       "                        <td id=\"T_8c4fe89e_5443_11ea_9973_42010a8a0002row74_col2\" class=\"data row74 col2\" >Yorkville, North Midtown, The Annex</td>\n",
       "            </tr>\n",
       "            <tr>\n",
       "                        <th id=\"T_8c4fe89e_5443_11ea_9973_42010a8a0002level0_row75\" class=\"row_heading level0 row75\" >113</th>\n",
       "                        <td id=\"T_8c4fe89e_5443_11ea_9973_42010a8a0002row75_col0\" class=\"data row75 col0\" >M6R</td>\n",
       "                        <td id=\"T_8c4fe89e_5443_11ea_9973_42010a8a0002row75_col1\" class=\"data row75 col1\" >West Toronto</td>\n",
       "                        <td id=\"T_8c4fe89e_5443_11ea_9973_42010a8a0002row75_col2\" class=\"data row75 col2\" >Roncesvalles, Parkdale</td>\n",
       "            </tr>\n",
       "            <tr>\n",
       "                        <th id=\"T_8c4fe89e_5443_11ea_9973_42010a8a0002level0_row76\" class=\"row_heading level0 row76\" >114</th>\n",
       "                        <td id=\"T_8c4fe89e_5443_11ea_9973_42010a8a0002row76_col0\" class=\"data row76 col0\" >M7R</td>\n",
       "                        <td id=\"T_8c4fe89e_5443_11ea_9973_42010a8a0002row76_col1\" class=\"data row76 col1\" >Mississauga</td>\n",
       "                        <td id=\"T_8c4fe89e_5443_11ea_9973_42010a8a0002row76_col2\" class=\"data row76 col2\" >Canada Post Gateway Processing Centre</td>\n",
       "            </tr>\n",
       "            <tr>\n",
       "                        <th id=\"T_8c4fe89e_5443_11ea_9973_42010a8a0002level0_row77\" class=\"row_heading level0 row77\" >116</th>\n",
       "                        <td id=\"T_8c4fe89e_5443_11ea_9973_42010a8a0002row77_col0\" class=\"data row77 col0\" >M9R</td>\n",
       "                        <td id=\"T_8c4fe89e_5443_11ea_9973_42010a8a0002row77_col1\" class=\"data row77 col1\" >Etobicoke</td>\n",
       "                        <td id=\"T_8c4fe89e_5443_11ea_9973_42010a8a0002row77_col2\" class=\"data row77 col2\" >St. Phillips, Richview Gardens, Martin Grove Gardens, Kingsview Village</td>\n",
       "            </tr>\n",
       "            <tr>\n",
       "                        <th id=\"T_8c4fe89e_5443_11ea_9973_42010a8a0002level0_row78\" class=\"row_heading level0 row78\" >117</th>\n",
       "                        <td id=\"T_8c4fe89e_5443_11ea_9973_42010a8a0002row78_col0\" class=\"data row78 col0\" >M1S</td>\n",
       "                        <td id=\"T_8c4fe89e_5443_11ea_9973_42010a8a0002row78_col1\" class=\"data row78 col1\" >Scarborough</td>\n",
       "                        <td id=\"T_8c4fe89e_5443_11ea_9973_42010a8a0002row78_col2\" class=\"data row78 col2\" >Agincourt</td>\n",
       "            </tr>\n",
       "            <tr>\n",
       "                        <th id=\"T_8c4fe89e_5443_11ea_9973_42010a8a0002level0_row79\" class=\"row_heading level0 row79\" >120</th>\n",
       "                        <td id=\"T_8c4fe89e_5443_11ea_9973_42010a8a0002row79_col0\" class=\"data row79 col0\" >M4S</td>\n",
       "                        <td id=\"T_8c4fe89e_5443_11ea_9973_42010a8a0002row79_col1\" class=\"data row79 col1\" >Central Toronto</td>\n",
       "                        <td id=\"T_8c4fe89e_5443_11ea_9973_42010a8a0002row79_col2\" class=\"data row79 col2\" >Davisville</td>\n",
       "            </tr>\n",
       "            <tr>\n",
       "                        <th id=\"T_8c4fe89e_5443_11ea_9973_42010a8a0002level0_row80\" class=\"row_heading level0 row80\" >121</th>\n",
       "                        <td id=\"T_8c4fe89e_5443_11ea_9973_42010a8a0002row80_col0\" class=\"data row80 col0\" >M5S</td>\n",
       "                        <td id=\"T_8c4fe89e_5443_11ea_9973_42010a8a0002row80_col1\" class=\"data row80 col1\" >Downtown Toronto</td>\n",
       "                        <td id=\"T_8c4fe89e_5443_11ea_9973_42010a8a0002row80_col2\" class=\"data row80 col2\" >University of Toronto, Harbord</td>\n",
       "            </tr>\n",
       "            <tr>\n",
       "                        <th id=\"T_8c4fe89e_5443_11ea_9973_42010a8a0002level0_row81\" class=\"row_heading level0 row81\" >122</th>\n",
       "                        <td id=\"T_8c4fe89e_5443_11ea_9973_42010a8a0002row81_col0\" class=\"data row81 col0\" >M6S</td>\n",
       "                        <td id=\"T_8c4fe89e_5443_11ea_9973_42010a8a0002row81_col1\" class=\"data row81 col1\" >West Toronto</td>\n",
       "                        <td id=\"T_8c4fe89e_5443_11ea_9973_42010a8a0002row81_col2\" class=\"data row81 col2\" >Swansea, Runnymede</td>\n",
       "            </tr>\n",
       "            <tr>\n",
       "                        <th id=\"T_8c4fe89e_5443_11ea_9973_42010a8a0002level0_row82\" class=\"row_heading level0 row82\" >126</th>\n",
       "                        <td id=\"T_8c4fe89e_5443_11ea_9973_42010a8a0002row82_col0\" class=\"data row82 col0\" >M1T</td>\n",
       "                        <td id=\"T_8c4fe89e_5443_11ea_9973_42010a8a0002row82_col1\" class=\"data row82 col1\" >Scarborough</td>\n",
       "                        <td id=\"T_8c4fe89e_5443_11ea_9973_42010a8a0002row82_col2\" class=\"data row82 col2\" >Tam O'Shanter, Sullivan, Clarks Corners</td>\n",
       "            </tr>\n",
       "            <tr>\n",
       "                        <th id=\"T_8c4fe89e_5443_11ea_9973_42010a8a0002level0_row83\" class=\"row_heading level0 row83\" >129</th>\n",
       "                        <td id=\"T_8c4fe89e_5443_11ea_9973_42010a8a0002row83_col0\" class=\"data row83 col0\" >M4T</td>\n",
       "                        <td id=\"T_8c4fe89e_5443_11ea_9973_42010a8a0002row83_col1\" class=\"data row83 col1\" >Central Toronto</td>\n",
       "                        <td id=\"T_8c4fe89e_5443_11ea_9973_42010a8a0002row83_col2\" class=\"data row83 col2\" >Summerhill East, Moore Park</td>\n",
       "            </tr>\n",
       "            <tr>\n",
       "                        <th id=\"T_8c4fe89e_5443_11ea_9973_42010a8a0002level0_row84\" class=\"row_heading level0 row84\" >130</th>\n",
       "                        <td id=\"T_8c4fe89e_5443_11ea_9973_42010a8a0002row84_col0\" class=\"data row84 col0\" >M5T</td>\n",
       "                        <td id=\"T_8c4fe89e_5443_11ea_9973_42010a8a0002row84_col1\" class=\"data row84 col1\" >Downtown Toronto</td>\n",
       "                        <td id=\"T_8c4fe89e_5443_11ea_9973_42010a8a0002row84_col2\" class=\"data row84 col2\" >Kensington Market, Grange Park, Chinatown</td>\n",
       "            </tr>\n",
       "            <tr>\n",
       "                        <th id=\"T_8c4fe89e_5443_11ea_9973_42010a8a0002level0_row85\" class=\"row_heading level0 row85\" >135</th>\n",
       "                        <td id=\"T_8c4fe89e_5443_11ea_9973_42010a8a0002row85_col0\" class=\"data row85 col0\" >M1V</td>\n",
       "                        <td id=\"T_8c4fe89e_5443_11ea_9973_42010a8a0002row85_col1\" class=\"data row85 col1\" >Scarborough</td>\n",
       "                        <td id=\"T_8c4fe89e_5443_11ea_9973_42010a8a0002row85_col2\" class=\"data row85 col2\" >Steeles East, Milliken, L'Amoreaux East, Agincourt North</td>\n",
       "            </tr>\n",
       "            <tr>\n",
       "                        <th id=\"T_8c4fe89e_5443_11ea_9973_42010a8a0002level0_row86\" class=\"row_heading level0 row86\" >138</th>\n",
       "                        <td id=\"T_8c4fe89e_5443_11ea_9973_42010a8a0002row86_col0\" class=\"data row86 col0\" >M4V</td>\n",
       "                        <td id=\"T_8c4fe89e_5443_11ea_9973_42010a8a0002row86_col1\" class=\"data row86 col1\" >Central Toronto</td>\n",
       "                        <td id=\"T_8c4fe89e_5443_11ea_9973_42010a8a0002row86_col2\" class=\"data row86 col2\" >Summerhill West, South Hill, Rathnelly, Forest Hill SE, Deer Park</td>\n",
       "            </tr>\n",
       "            <tr>\n",
       "                        <th id=\"T_8c4fe89e_5443_11ea_9973_42010a8a0002level0_row87\" class=\"row_heading level0 row87\" >139</th>\n",
       "                        <td id=\"T_8c4fe89e_5443_11ea_9973_42010a8a0002row87_col0\" class=\"data row87 col0\" >M5V</td>\n",
       "                        <td id=\"T_8c4fe89e_5443_11ea_9973_42010a8a0002row87_col1\" class=\"data row87 col1\" >Downtown Toronto</td>\n",
       "                        <td id=\"T_8c4fe89e_5443_11ea_9973_42010a8a0002row87_col2\" class=\"data row87 col2\" >South Niagara, Railway Lands, King and Spadina, Harbourfront West, Island airport, Bathurst Quay, CN Tower</td>\n",
       "            </tr>\n",
       "            <tr>\n",
       "                        <th id=\"T_8c4fe89e_5443_11ea_9973_42010a8a0002level0_row88\" class=\"row_heading level0 row88\" >142</th>\n",
       "                        <td id=\"T_8c4fe89e_5443_11ea_9973_42010a8a0002row88_col0\" class=\"data row88 col0\" >M8V</td>\n",
       "                        <td id=\"T_8c4fe89e_5443_11ea_9973_42010a8a0002row88_col1\" class=\"data row88 col1\" >Etobicoke</td>\n",
       "                        <td id=\"T_8c4fe89e_5443_11ea_9973_42010a8a0002row88_col2\" class=\"data row88 col2\" >New Toronto, Mimico South, Humber Bay Shores</td>\n",
       "            </tr>\n",
       "            <tr>\n",
       "                        <th id=\"T_8c4fe89e_5443_11ea_9973_42010a8a0002level0_row89\" class=\"row_heading level0 row89\" >143</th>\n",
       "                        <td id=\"T_8c4fe89e_5443_11ea_9973_42010a8a0002row89_col0\" class=\"data row89 col0\" >M9V</td>\n",
       "                        <td id=\"T_8c4fe89e_5443_11ea_9973_42010a8a0002row89_col1\" class=\"data row89 col1\" >Etobicoke</td>\n",
       "                        <td id=\"T_8c4fe89e_5443_11ea_9973_42010a8a0002row89_col2\" class=\"data row89 col2\" >Thistletown, South Steeles, Silverstone, Mount Olive, Jamestown, Humbergate, Beaumond Heights, Albion Gardens</td>\n",
       "            </tr>\n",
       "            <tr>\n",
       "                        <th id=\"T_8c4fe89e_5443_11ea_9973_42010a8a0002level0_row90\" class=\"row_heading level0 row90\" >144</th>\n",
       "                        <td id=\"T_8c4fe89e_5443_11ea_9973_42010a8a0002row90_col0\" class=\"data row90 col0\" >M1W</td>\n",
       "                        <td id=\"T_8c4fe89e_5443_11ea_9973_42010a8a0002row90_col1\" class=\"data row90 col1\" >Scarborough</td>\n",
       "                        <td id=\"T_8c4fe89e_5443_11ea_9973_42010a8a0002row90_col2\" class=\"data row90 col2\" >L'Amoreaux West</td>\n",
       "            </tr>\n",
       "            <tr>\n",
       "                        <th id=\"T_8c4fe89e_5443_11ea_9973_42010a8a0002level0_row91\" class=\"row_heading level0 row91\" >147</th>\n",
       "                        <td id=\"T_8c4fe89e_5443_11ea_9973_42010a8a0002row91_col0\" class=\"data row91 col0\" >M4W</td>\n",
       "                        <td id=\"T_8c4fe89e_5443_11ea_9973_42010a8a0002row91_col1\" class=\"data row91 col1\" >Downtown Toronto</td>\n",
       "                        <td id=\"T_8c4fe89e_5443_11ea_9973_42010a8a0002row91_col2\" class=\"data row91 col2\" >Rosedale</td>\n",
       "            </tr>\n",
       "            <tr>\n",
       "                        <th id=\"T_8c4fe89e_5443_11ea_9973_42010a8a0002level0_row92\" class=\"row_heading level0 row92\" >148</th>\n",
       "                        <td id=\"T_8c4fe89e_5443_11ea_9973_42010a8a0002row92_col0\" class=\"data row92 col0\" >M5W</td>\n",
       "                        <td id=\"T_8c4fe89e_5443_11ea_9973_42010a8a0002row92_col1\" class=\"data row92 col1\" >Downtown Toronto</td>\n",
       "                        <td id=\"T_8c4fe89e_5443_11ea_9973_42010a8a0002row92_col2\" class=\"data row92 col2\" >Stn A PO Boxes 25 The Esplanade</td>\n",
       "            </tr>\n",
       "            <tr>\n",
       "                        <th id=\"T_8c4fe89e_5443_11ea_9973_42010a8a0002level0_row93\" class=\"row_heading level0 row93\" >151</th>\n",
       "                        <td id=\"T_8c4fe89e_5443_11ea_9973_42010a8a0002row93_col0\" class=\"data row93 col0\" >M8W</td>\n",
       "                        <td id=\"T_8c4fe89e_5443_11ea_9973_42010a8a0002row93_col1\" class=\"data row93 col1\" >Etobicoke</td>\n",
       "                        <td id=\"T_8c4fe89e_5443_11ea_9973_42010a8a0002row93_col2\" class=\"data row93 col2\" >Long Branch, Alderwood</td>\n",
       "            </tr>\n",
       "            <tr>\n",
       "                        <th id=\"T_8c4fe89e_5443_11ea_9973_42010a8a0002level0_row94\" class=\"row_heading level0 row94\" >152</th>\n",
       "                        <td id=\"T_8c4fe89e_5443_11ea_9973_42010a8a0002row94_col0\" class=\"data row94 col0\" >M9W</td>\n",
       "                        <td id=\"T_8c4fe89e_5443_11ea_9973_42010a8a0002row94_col1\" class=\"data row94 col1\" >Etobicoke</td>\n",
       "                        <td id=\"T_8c4fe89e_5443_11ea_9973_42010a8a0002row94_col2\" class=\"data row94 col2\" >Northwest</td>\n",
       "            </tr>\n",
       "            <tr>\n",
       "                        <th id=\"T_8c4fe89e_5443_11ea_9973_42010a8a0002level0_row95\" class=\"row_heading level0 row95\" >153</th>\n",
       "                        <td id=\"T_8c4fe89e_5443_11ea_9973_42010a8a0002row95_col0\" class=\"data row95 col0\" >M1X</td>\n",
       "                        <td id=\"T_8c4fe89e_5443_11ea_9973_42010a8a0002row95_col1\" class=\"data row95 col1\" >Scarborough</td>\n",
       "                        <td id=\"T_8c4fe89e_5443_11ea_9973_42010a8a0002row95_col2\" class=\"data row95 col2\" >Upper Rouge</td>\n",
       "            </tr>\n",
       "            <tr>\n",
       "                        <th id=\"T_8c4fe89e_5443_11ea_9973_42010a8a0002level0_row96\" class=\"row_heading level0 row96\" >156</th>\n",
       "                        <td id=\"T_8c4fe89e_5443_11ea_9973_42010a8a0002row96_col0\" class=\"data row96 col0\" >M4X</td>\n",
       "                        <td id=\"T_8c4fe89e_5443_11ea_9973_42010a8a0002row96_col1\" class=\"data row96 col1\" >Downtown Toronto</td>\n",
       "                        <td id=\"T_8c4fe89e_5443_11ea_9973_42010a8a0002row96_col2\" class=\"data row96 col2\" >St. James Town, Cabbagetown</td>\n",
       "            </tr>\n",
       "            <tr>\n",
       "                        <th id=\"T_8c4fe89e_5443_11ea_9973_42010a8a0002level0_row97\" class=\"row_heading level0 row97\" >157</th>\n",
       "                        <td id=\"T_8c4fe89e_5443_11ea_9973_42010a8a0002row97_col0\" class=\"data row97 col0\" >M5X</td>\n",
       "                        <td id=\"T_8c4fe89e_5443_11ea_9973_42010a8a0002row97_col1\" class=\"data row97 col1\" >Downtown Toronto</td>\n",
       "                        <td id=\"T_8c4fe89e_5443_11ea_9973_42010a8a0002row97_col2\" class=\"data row97 col2\" >Underground city, First Canadian Place</td>\n",
       "            </tr>\n",
       "            <tr>\n",
       "                        <th id=\"T_8c4fe89e_5443_11ea_9973_42010a8a0002level0_row98\" class=\"row_heading level0 row98\" >160</th>\n",
       "                        <td id=\"T_8c4fe89e_5443_11ea_9973_42010a8a0002row98_col0\" class=\"data row98 col0\" >M8X</td>\n",
       "                        <td id=\"T_8c4fe89e_5443_11ea_9973_42010a8a0002row98_col1\" class=\"data row98 col1\" >Etobicoke</td>\n",
       "                        <td id=\"T_8c4fe89e_5443_11ea_9973_42010a8a0002row98_col2\" class=\"data row98 col2\" >Old Mill North, Montgomery Road, The Kingsway</td>\n",
       "            </tr>\n",
       "            <tr>\n",
       "                        <th id=\"T_8c4fe89e_5443_11ea_9973_42010a8a0002level0_row99\" class=\"row_heading level0 row99\" >165</th>\n",
       "                        <td id=\"T_8c4fe89e_5443_11ea_9973_42010a8a0002row99_col0\" class=\"data row99 col0\" >M4Y</td>\n",
       "                        <td id=\"T_8c4fe89e_5443_11ea_9973_42010a8a0002row99_col1\" class=\"data row99 col1\" >Downtown Toronto</td>\n",
       "                        <td id=\"T_8c4fe89e_5443_11ea_9973_42010a8a0002row99_col2\" class=\"data row99 col2\" >Church and Wellesley</td>\n",
       "            </tr>\n",
       "            <tr>\n",
       "                        <th id=\"T_8c4fe89e_5443_11ea_9973_42010a8a0002level0_row100\" class=\"row_heading level0 row100\" >168</th>\n",
       "                        <td id=\"T_8c4fe89e_5443_11ea_9973_42010a8a0002row100_col0\" class=\"data row100 col0\" >M7Y</td>\n",
       "                        <td id=\"T_8c4fe89e_5443_11ea_9973_42010a8a0002row100_col1\" class=\"data row100 col1\" >East Toronto</td>\n",
       "                        <td id=\"T_8c4fe89e_5443_11ea_9973_42010a8a0002row100_col2\" class=\"data row100 col2\" >Business Reply Mail Processing Centre 969 Eastern</td>\n",
       "            </tr>\n",
       "            <tr>\n",
       "                        <th id=\"T_8c4fe89e_5443_11ea_9973_42010a8a0002level0_row101\" class=\"row_heading level0 row101\" >169</th>\n",
       "                        <td id=\"T_8c4fe89e_5443_11ea_9973_42010a8a0002row101_col0\" class=\"data row101 col0\" >M8Y</td>\n",
       "                        <td id=\"T_8c4fe89e_5443_11ea_9973_42010a8a0002row101_col1\" class=\"data row101 col1\" >Etobicoke</td>\n",
       "                        <td id=\"T_8c4fe89e_5443_11ea_9973_42010a8a0002row101_col2\" class=\"data row101 col2\" >Sunnylea, Royal York South East, The Queensway East, Old Mill South, Mimico NE, Kingsway Park South East, King's Mill Park, Humber Bay</td>\n",
       "            </tr>\n",
       "            <tr>\n",
       "                        <th id=\"T_8c4fe89e_5443_11ea_9973_42010a8a0002level0_row102\" class=\"row_heading level0 row102\" >178</th>\n",
       "                        <td id=\"T_8c4fe89e_5443_11ea_9973_42010a8a0002row102_col0\" class=\"data row102 col0\" >M8Z</td>\n",
       "                        <td id=\"T_8c4fe89e_5443_11ea_9973_42010a8a0002row102_col1\" class=\"data row102 col1\" >Etobicoke</td>\n",
       "                        <td id=\"T_8c4fe89e_5443_11ea_9973_42010a8a0002row102_col2\" class=\"data row102 col2\" >South of Bloor, Royal York South West, The Queensway West, Mimico NW, Kingsway Park South West</td>\n",
       "            </tr>\n",
       "    </tbody></table>"
      ],
      "text/plain": [
       "<pandas.io.formats.style.Styler at 0x7fef94d8ac18>"
      ]
     },
     "execution_count": 639,
     "metadata": {},
     "output_type": "execute_result"
    }
   ],
   "source": [
    "df_table.style"
   ]
  },
  {
   "cell_type": "code",
   "execution_count": 648,
   "metadata": {},
   "outputs": [
    {
     "data": {
      "text/plain": [
       "(103, 3)"
      ]
     },
     "execution_count": 648,
     "metadata": {},
     "output_type": "execute_result"
    }
   ],
   "source": [
    "df_table.shape"
   ]
  },
  {
   "cell_type": "code",
   "execution_count": 646,
   "metadata": {},
   "outputs": [],
   "source": [
    "df_table.to_csv('neighbor.csv')"
   ]
  },
  {
   "cell_type": "code",
   "execution_count": 647,
   "metadata": {},
   "outputs": [
    {
     "name": "stdout",
     "output_type": "stream",
     "text": [
      "coursera_capstone.ipynb     LICENSE\t  neighborhoods_toronto.ipynb\n",
      "Geospatial_Coordinates.csv  neighbor.csv  README.md\n"
     ]
    }
   ],
   "source": [
    "!ls"
   ]
  }
 ],
 "metadata": {
  "kernelspec": {
   "display_name": "Python 3",
   "language": "python",
   "name": "python3"
  },
  "language_info": {
   "codemirror_mode": {
    "name": "ipython",
    "version": 3
   },
   "file_extension": ".py",
   "mimetype": "text/x-python",
   "name": "python",
   "nbconvert_exporter": "python",
   "pygments_lexer": "ipython3",
   "version": "3.5.3"
  }
 },
 "nbformat": 4,
 "nbformat_minor": 4
}
