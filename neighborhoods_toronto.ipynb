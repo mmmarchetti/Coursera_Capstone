{
 "cells": [
  {
   "cell_type": "markdown",
   "metadata": {},
   "source": [
    "## Analyzing Canada's Neighborhood"
   ]
  },
  {
   "cell_type": "markdown",
   "metadata": {},
   "source": [
    "### 1- Import the libraries"
   ]
  },
  {
   "cell_type": "code",
   "execution_count": 167,
   "metadata": {},
   "outputs": [],
   "source": [
    "from bs4 import BeautifulSoup\n",
    "import pandas as pd\n",
    "import numpy\n",
    "import requests"
   ]
  },
  {
   "cell_type": "markdown",
   "metadata": {},
   "source": [
    "### 2- Scraping the web page "
   ]
  },
  {
   "cell_type": "code",
   "execution_count": 168,
   "metadata": {},
   "outputs": [],
   "source": [
    "site = requests.get('https://en.wikipedia.org/wiki/List_of_postal_codes_of_Canada:_M')"
   ]
  },
  {
   "cell_type": "markdown",
   "metadata": {},
   "source": [
    "#### If the result starts with number two, the page was successfully accessed"
   ]
  },
  {
   "cell_type": "code",
   "execution_count": 169,
   "metadata": {},
   "outputs": [
    {
     "data": {
      "text/plain": [
       "200"
      ]
     },
     "execution_count": 169,
     "metadata": {},
     "output_type": "execute_result"
    }
   ],
   "source": [
    "site.status_code"
   ]
  },
  {
   "cell_type": "markdown",
   "metadata": {},
   "source": [
    "Create a BeautifulSoup object"
   ]
  },
  {
   "cell_type": "code",
   "execution_count": 170,
   "metadata": {},
   "outputs": [],
   "source": [
    "soup = BeautifulSoup(site.content, 'html.parser')"
   ]
  },
  {
   "cell_type": "markdown",
   "metadata": {},
   "source": [
    "Check the title of web page"
   ]
  },
  {
   "cell_type": "code",
   "execution_count": 171,
   "metadata": {},
   "outputs": [
    {
     "name": "stdout",
     "output_type": "stream",
     "text": [
      "<title>List of postal codes of Canada: M - Wikipedia</title>\n"
     ]
    }
   ],
   "source": [
    "print(soup.title)"
   ]
  },
  {
   "cell_type": "markdown",
   "metadata": {},
   "source": [
    "Find and create a list of the table"
   ]
  },
  {
   "cell_type": "code",
   "execution_count": 363,
   "metadata": {},
   "outputs": [
    {
     "name": "stdout",
     "output_type": "stream",
     "text": [
      "[<th>Postcode</th>, <th>Borough</th>, <th>Neighbourhood\n",
      "</th>]\n"
     ]
    }
   ],
   "source": [
    "table_html = soup.table\n",
    "print(table_html.find_all('th'))"
   ]
  },
  {
   "cell_type": "code",
   "execution_count": 364,
   "metadata": {},
   "outputs": [],
   "source": [
    "table = [text.get_text() for text in table_html.find_all('td')]"
   ]
  },
  {
   "cell_type": "code",
   "execution_count": 365,
   "metadata": {},
   "outputs": [
    {
     "data": {
      "text/plain": [
       "['M1A', 'Not assigned', 'Not assigned\\n']"
      ]
     },
     "execution_count": 365,
     "metadata": {},
     "output_type": "execute_result"
    }
   ],
   "source": [
    "table[:3]"
   ]
  },
  {
   "cell_type": "markdown",
   "metadata": {},
   "source": [
    "Create a list with the Postcode, Borough and Neighbourhood"
   ]
  },
  {
   "cell_type": "code",
   "execution_count": 366,
   "metadata": {},
   "outputs": [
    {
     "data": {
      "text/plain": [
       "['M1A', 'M2A', 'M3A']"
      ]
     },
     "execution_count": 366,
     "metadata": {},
     "output_type": "execute_result"
    }
   ],
   "source": [
    "postcode = [table[i] for i in range(0, len(table), 3)]\n",
    "postcode[:3]"
   ]
  },
  {
   "cell_type": "code",
   "execution_count": 367,
   "metadata": {},
   "outputs": [
    {
     "data": {
      "text/plain": [
       "['Not assigned', 'Not assigned', 'North York']"
      ]
     },
     "execution_count": 367,
     "metadata": {},
     "output_type": "execute_result"
    }
   ],
   "source": [
    "borough = [table[i] for i in range(1, len(table), 3)]\n",
    "borough[:3]"
   ]
  },
  {
   "cell_type": "code",
   "execution_count": 368,
   "metadata": {},
   "outputs": [
    {
     "data": {
      "text/plain": [
       "['Not assigned', 'Not assigned', 'Parkwoods']"
      ]
     },
     "execution_count": 368,
     "metadata": {},
     "output_type": "execute_result"
    }
   ],
   "source": [
    "neighbourhood = [table[i] for i in range(2, len(table), 3)]\n",
    "neighbourhood = [s.replace('\\n', '') for s in neighbourhood]\n",
    "neighbourhood = [s.replace('Not assigned', borough[i]) for i, s in enumerate(neighbourhood)]\n",
    "neighbourhood[:3]"
   ]
  },
  {
   "cell_type": "markdown",
   "metadata": {},
   "source": [
    "Create a dictionary"
   ]
  },
  {
   "cell_type": "code",
   "execution_count": 369,
   "metadata": {},
   "outputs": [],
   "source": [
    "dict_table = {\n",
    "    'Postcode': postcode,\n",
    "    'Borough': borough,\n",
    "    'Neighbourhood': neighbourhood}"
   ]
  },
  {
   "cell_type": "markdown",
   "metadata": {},
   "source": [
    "### 3- Creating a Pandas DataFrame"
   ]
  },
  {
   "cell_type": "code",
   "execution_count": 370,
   "metadata": {},
   "outputs": [],
   "source": [
    "df_table = pd.DataFrame(dict_table, columns=['Postcode', 'Borough', 'Neighbourhood'])"
   ]
  },
  {
   "cell_type": "markdown",
   "metadata": {},
   "source": [
    "Clean and drop the row with 'Not assigned'"
   ]
  },
  {
   "cell_type": "code",
   "execution_count": 371,
   "metadata": {},
   "outputs": [],
   "source": [
    "not_assign = df_table[((df_table['Borough'] == 'Not assigned'))].index"
   ]
  },
  {
   "cell_type": "code",
   "execution_count": 372,
   "metadata": {},
   "outputs": [],
   "source": [
    "df_table.drop(not_assign, inplace=True)"
   ]
  },
  {
   "cell_type": "markdown",
   "metadata": {},
   "source": [
    "Group the Neighbourhood with PostCode"
   ]
  },
  {
   "cell_type": "code",
   "execution_count": 399,
   "metadata": {},
   "outputs": [],
   "source": [
    "grouped = df_table.groupby(['Postcode', 'Borough'])['Neighbourhood'].apply(lambda x: \"%s\" % ', '.join(x))"
   ]
  },
  {
   "cell_type": "code",
   "execution_count": 400,
   "metadata": {},
   "outputs": [],
   "source": [
    "df = pd.DataFrame(grouped)"
   ]
  },
  {
   "cell_type": "markdown",
   "metadata": {},
   "source": [
    "Displaying the final result"
   ]
  },
  {
   "cell_type": "code",
   "execution_count": 406,
   "metadata": {},
   "outputs": [
    {
     "data": {
      "text/html": [
       "<style  type=\"text/css\" >\n",
       "</style><table id=\"T_a0c0e342_541a_11ea_9973_42010a8a0002\" ><thead>    <tr>        <th class=\"blank\" ></th>        <th class=\"blank level0\" ></th>        <th class=\"col_heading level0 col0\" >Neighbourhood</th>    </tr>    <tr>        <th class=\"index_name level0\" >Postcode</th>        <th class=\"index_name level1\" >Borough</th>        <th class=\"blank\" ></th>    </tr></thead><tbody>\n",
       "                <tr>\n",
       "                        <th id=\"T_a0c0e342_541a_11ea_9973_42010a8a0002level0_row0\" class=\"row_heading level0 row0\" >M1B</th>\n",
       "                        <th id=\"T_a0c0e342_541a_11ea_9973_42010a8a0002level1_row0\" class=\"row_heading level1 row0\" >Scarborough</th>\n",
       "                        <td id=\"T_a0c0e342_541a_11ea_9973_42010a8a0002row0_col0\" class=\"data row0 col0\" >Rouge, Malvern</td>\n",
       "            </tr>\n",
       "            <tr>\n",
       "                        <th id=\"T_a0c0e342_541a_11ea_9973_42010a8a0002level0_row1\" class=\"row_heading level0 row1\" >M1C</th>\n",
       "                        <th id=\"T_a0c0e342_541a_11ea_9973_42010a8a0002level1_row1\" class=\"row_heading level1 row1\" >Scarborough</th>\n",
       "                        <td id=\"T_a0c0e342_541a_11ea_9973_42010a8a0002row1_col0\" class=\"data row1 col0\" >Highland Creek, Rouge Hill, Port Union</td>\n",
       "            </tr>\n",
       "            <tr>\n",
       "                        <th id=\"T_a0c0e342_541a_11ea_9973_42010a8a0002level0_row2\" class=\"row_heading level0 row2\" >M1E</th>\n",
       "                        <th id=\"T_a0c0e342_541a_11ea_9973_42010a8a0002level1_row2\" class=\"row_heading level1 row2\" >Scarborough</th>\n",
       "                        <td id=\"T_a0c0e342_541a_11ea_9973_42010a8a0002row2_col0\" class=\"data row2 col0\" >Guildwood, Morningside, West Hill</td>\n",
       "            </tr>\n",
       "            <tr>\n",
       "                        <th id=\"T_a0c0e342_541a_11ea_9973_42010a8a0002level0_row3\" class=\"row_heading level0 row3\" >M1G</th>\n",
       "                        <th id=\"T_a0c0e342_541a_11ea_9973_42010a8a0002level1_row3\" class=\"row_heading level1 row3\" >Scarborough</th>\n",
       "                        <td id=\"T_a0c0e342_541a_11ea_9973_42010a8a0002row3_col0\" class=\"data row3 col0\" >Woburn</td>\n",
       "            </tr>\n",
       "            <tr>\n",
       "                        <th id=\"T_a0c0e342_541a_11ea_9973_42010a8a0002level0_row4\" class=\"row_heading level0 row4\" >M1H</th>\n",
       "                        <th id=\"T_a0c0e342_541a_11ea_9973_42010a8a0002level1_row4\" class=\"row_heading level1 row4\" >Scarborough</th>\n",
       "                        <td id=\"T_a0c0e342_541a_11ea_9973_42010a8a0002row4_col0\" class=\"data row4 col0\" >Cedarbrae</td>\n",
       "            </tr>\n",
       "            <tr>\n",
       "                        <th id=\"T_a0c0e342_541a_11ea_9973_42010a8a0002level0_row5\" class=\"row_heading level0 row5\" >M1J</th>\n",
       "                        <th id=\"T_a0c0e342_541a_11ea_9973_42010a8a0002level1_row5\" class=\"row_heading level1 row5\" >Scarborough</th>\n",
       "                        <td id=\"T_a0c0e342_541a_11ea_9973_42010a8a0002row5_col0\" class=\"data row5 col0\" >Scarborough Village</td>\n",
       "            </tr>\n",
       "            <tr>\n",
       "                        <th id=\"T_a0c0e342_541a_11ea_9973_42010a8a0002level0_row6\" class=\"row_heading level0 row6\" >M1K</th>\n",
       "                        <th id=\"T_a0c0e342_541a_11ea_9973_42010a8a0002level1_row6\" class=\"row_heading level1 row6\" >Scarborough</th>\n",
       "                        <td id=\"T_a0c0e342_541a_11ea_9973_42010a8a0002row6_col0\" class=\"data row6 col0\" >East Birchmount Park, Ionview, Kennedy Park</td>\n",
       "            </tr>\n",
       "            <tr>\n",
       "                        <th id=\"T_a0c0e342_541a_11ea_9973_42010a8a0002level0_row7\" class=\"row_heading level0 row7\" >M1L</th>\n",
       "                        <th id=\"T_a0c0e342_541a_11ea_9973_42010a8a0002level1_row7\" class=\"row_heading level1 row7\" >Scarborough</th>\n",
       "                        <td id=\"T_a0c0e342_541a_11ea_9973_42010a8a0002row7_col0\" class=\"data row7 col0\" >Clairlea, Golden Mile, Oakridge</td>\n",
       "            </tr>\n",
       "            <tr>\n",
       "                        <th id=\"T_a0c0e342_541a_11ea_9973_42010a8a0002level0_row8\" class=\"row_heading level0 row8\" >M1M</th>\n",
       "                        <th id=\"T_a0c0e342_541a_11ea_9973_42010a8a0002level1_row8\" class=\"row_heading level1 row8\" >Scarborough</th>\n",
       "                        <td id=\"T_a0c0e342_541a_11ea_9973_42010a8a0002row8_col0\" class=\"data row8 col0\" >Cliffcrest, Cliffside, Scarborough Village West</td>\n",
       "            </tr>\n",
       "            <tr>\n",
       "                        <th id=\"T_a0c0e342_541a_11ea_9973_42010a8a0002level0_row9\" class=\"row_heading level0 row9\" >M1N</th>\n",
       "                        <th id=\"T_a0c0e342_541a_11ea_9973_42010a8a0002level1_row9\" class=\"row_heading level1 row9\" >Scarborough</th>\n",
       "                        <td id=\"T_a0c0e342_541a_11ea_9973_42010a8a0002row9_col0\" class=\"data row9 col0\" >Birch Cliff, Cliffside West</td>\n",
       "            </tr>\n",
       "            <tr>\n",
       "                        <th id=\"T_a0c0e342_541a_11ea_9973_42010a8a0002level0_row10\" class=\"row_heading level0 row10\" >M1P</th>\n",
       "                        <th id=\"T_a0c0e342_541a_11ea_9973_42010a8a0002level1_row10\" class=\"row_heading level1 row10\" >Scarborough</th>\n",
       "                        <td id=\"T_a0c0e342_541a_11ea_9973_42010a8a0002row10_col0\" class=\"data row10 col0\" >Dorset Park, Scarborough Town Centre, Wexford Heights</td>\n",
       "            </tr>\n",
       "            <tr>\n",
       "                        <th id=\"T_a0c0e342_541a_11ea_9973_42010a8a0002level0_row11\" class=\"row_heading level0 row11\" >M1R</th>\n",
       "                        <th id=\"T_a0c0e342_541a_11ea_9973_42010a8a0002level1_row11\" class=\"row_heading level1 row11\" >Scarborough</th>\n",
       "                        <td id=\"T_a0c0e342_541a_11ea_9973_42010a8a0002row11_col0\" class=\"data row11 col0\" >Maryvale, Wexford</td>\n",
       "            </tr>\n",
       "            <tr>\n",
       "                        <th id=\"T_a0c0e342_541a_11ea_9973_42010a8a0002level0_row12\" class=\"row_heading level0 row12\" >M1S</th>\n",
       "                        <th id=\"T_a0c0e342_541a_11ea_9973_42010a8a0002level1_row12\" class=\"row_heading level1 row12\" >Scarborough</th>\n",
       "                        <td id=\"T_a0c0e342_541a_11ea_9973_42010a8a0002row12_col0\" class=\"data row12 col0\" >Agincourt</td>\n",
       "            </tr>\n",
       "            <tr>\n",
       "                        <th id=\"T_a0c0e342_541a_11ea_9973_42010a8a0002level0_row13\" class=\"row_heading level0 row13\" >M1T</th>\n",
       "                        <th id=\"T_a0c0e342_541a_11ea_9973_42010a8a0002level1_row13\" class=\"row_heading level1 row13\" >Scarborough</th>\n",
       "                        <td id=\"T_a0c0e342_541a_11ea_9973_42010a8a0002row13_col0\" class=\"data row13 col0\" >Clarks Corners, Sullivan, Tam O'Shanter</td>\n",
       "            </tr>\n",
       "            <tr>\n",
       "                        <th id=\"T_a0c0e342_541a_11ea_9973_42010a8a0002level0_row14\" class=\"row_heading level0 row14\" >M1V</th>\n",
       "                        <th id=\"T_a0c0e342_541a_11ea_9973_42010a8a0002level1_row14\" class=\"row_heading level1 row14\" >Scarborough</th>\n",
       "                        <td id=\"T_a0c0e342_541a_11ea_9973_42010a8a0002row14_col0\" class=\"data row14 col0\" >Agincourt North, L'Amoreaux East, Milliken, Steeles East</td>\n",
       "            </tr>\n",
       "            <tr>\n",
       "                        <th id=\"T_a0c0e342_541a_11ea_9973_42010a8a0002level0_row15\" class=\"row_heading level0 row15\" >M1W</th>\n",
       "                        <th id=\"T_a0c0e342_541a_11ea_9973_42010a8a0002level1_row15\" class=\"row_heading level1 row15\" >Scarborough</th>\n",
       "                        <td id=\"T_a0c0e342_541a_11ea_9973_42010a8a0002row15_col0\" class=\"data row15 col0\" >L'Amoreaux West</td>\n",
       "            </tr>\n",
       "            <tr>\n",
       "                        <th id=\"T_a0c0e342_541a_11ea_9973_42010a8a0002level0_row16\" class=\"row_heading level0 row16\" >M1X</th>\n",
       "                        <th id=\"T_a0c0e342_541a_11ea_9973_42010a8a0002level1_row16\" class=\"row_heading level1 row16\" >Scarborough</th>\n",
       "                        <td id=\"T_a0c0e342_541a_11ea_9973_42010a8a0002row16_col0\" class=\"data row16 col0\" >Upper Rouge</td>\n",
       "            </tr>\n",
       "            <tr>\n",
       "                        <th id=\"T_a0c0e342_541a_11ea_9973_42010a8a0002level0_row17\" class=\"row_heading level0 row17\" >M2H</th>\n",
       "                        <th id=\"T_a0c0e342_541a_11ea_9973_42010a8a0002level1_row17\" class=\"row_heading level1 row17\" >North York</th>\n",
       "                        <td id=\"T_a0c0e342_541a_11ea_9973_42010a8a0002row17_col0\" class=\"data row17 col0\" >Hillcrest Village</td>\n",
       "            </tr>\n",
       "            <tr>\n",
       "                        <th id=\"T_a0c0e342_541a_11ea_9973_42010a8a0002level0_row18\" class=\"row_heading level0 row18\" >M2J</th>\n",
       "                        <th id=\"T_a0c0e342_541a_11ea_9973_42010a8a0002level1_row18\" class=\"row_heading level1 row18\" >North York</th>\n",
       "                        <td id=\"T_a0c0e342_541a_11ea_9973_42010a8a0002row18_col0\" class=\"data row18 col0\" >Fairview, Henry Farm, Oriole</td>\n",
       "            </tr>\n",
       "            <tr>\n",
       "                        <th id=\"T_a0c0e342_541a_11ea_9973_42010a8a0002level0_row19\" class=\"row_heading level0 row19\" >M2K</th>\n",
       "                        <th id=\"T_a0c0e342_541a_11ea_9973_42010a8a0002level1_row19\" class=\"row_heading level1 row19\" >North York</th>\n",
       "                        <td id=\"T_a0c0e342_541a_11ea_9973_42010a8a0002row19_col0\" class=\"data row19 col0\" >Bayview Village</td>\n",
       "            </tr>\n",
       "            <tr>\n",
       "                        <th id=\"T_a0c0e342_541a_11ea_9973_42010a8a0002level0_row20\" class=\"row_heading level0 row20\" >M2L</th>\n",
       "                        <th id=\"T_a0c0e342_541a_11ea_9973_42010a8a0002level1_row20\" class=\"row_heading level1 row20\" >North York</th>\n",
       "                        <td id=\"T_a0c0e342_541a_11ea_9973_42010a8a0002row20_col0\" class=\"data row20 col0\" >Silver Hills, York Mills</td>\n",
       "            </tr>\n",
       "            <tr>\n",
       "                        <th id=\"T_a0c0e342_541a_11ea_9973_42010a8a0002level0_row21\" class=\"row_heading level0 row21\" >M2M</th>\n",
       "                        <th id=\"T_a0c0e342_541a_11ea_9973_42010a8a0002level1_row21\" class=\"row_heading level1 row21\" >North York</th>\n",
       "                        <td id=\"T_a0c0e342_541a_11ea_9973_42010a8a0002row21_col0\" class=\"data row21 col0\" >Newtonbrook, Willowdale</td>\n",
       "            </tr>\n",
       "            <tr>\n",
       "                        <th id=\"T_a0c0e342_541a_11ea_9973_42010a8a0002level0_row22\" class=\"row_heading level0 row22\" >M2N</th>\n",
       "                        <th id=\"T_a0c0e342_541a_11ea_9973_42010a8a0002level1_row22\" class=\"row_heading level1 row22\" >North York</th>\n",
       "                        <td id=\"T_a0c0e342_541a_11ea_9973_42010a8a0002row22_col0\" class=\"data row22 col0\" >Willowdale South</td>\n",
       "            </tr>\n",
       "            <tr>\n",
       "                        <th id=\"T_a0c0e342_541a_11ea_9973_42010a8a0002level0_row23\" class=\"row_heading level0 row23\" >M2P</th>\n",
       "                        <th id=\"T_a0c0e342_541a_11ea_9973_42010a8a0002level1_row23\" class=\"row_heading level1 row23\" >North York</th>\n",
       "                        <td id=\"T_a0c0e342_541a_11ea_9973_42010a8a0002row23_col0\" class=\"data row23 col0\" >York Mills West</td>\n",
       "            </tr>\n",
       "            <tr>\n",
       "                        <th id=\"T_a0c0e342_541a_11ea_9973_42010a8a0002level0_row24\" class=\"row_heading level0 row24\" >M2R</th>\n",
       "                        <th id=\"T_a0c0e342_541a_11ea_9973_42010a8a0002level1_row24\" class=\"row_heading level1 row24\" >North York</th>\n",
       "                        <td id=\"T_a0c0e342_541a_11ea_9973_42010a8a0002row24_col0\" class=\"data row24 col0\" >Willowdale West</td>\n",
       "            </tr>\n",
       "            <tr>\n",
       "                        <th id=\"T_a0c0e342_541a_11ea_9973_42010a8a0002level0_row25\" class=\"row_heading level0 row25\" >M3A</th>\n",
       "                        <th id=\"T_a0c0e342_541a_11ea_9973_42010a8a0002level1_row25\" class=\"row_heading level1 row25\" >North York</th>\n",
       "                        <td id=\"T_a0c0e342_541a_11ea_9973_42010a8a0002row25_col0\" class=\"data row25 col0\" >Parkwoods</td>\n",
       "            </tr>\n",
       "            <tr>\n",
       "                        <th id=\"T_a0c0e342_541a_11ea_9973_42010a8a0002level0_row26\" class=\"row_heading level0 row26\" >M3B</th>\n",
       "                        <th id=\"T_a0c0e342_541a_11ea_9973_42010a8a0002level1_row26\" class=\"row_heading level1 row26\" >North York</th>\n",
       "                        <td id=\"T_a0c0e342_541a_11ea_9973_42010a8a0002row26_col0\" class=\"data row26 col0\" >Don Mills North</td>\n",
       "            </tr>\n",
       "            <tr>\n",
       "                        <th id=\"T_a0c0e342_541a_11ea_9973_42010a8a0002level0_row27\" class=\"row_heading level0 row27\" >M3C</th>\n",
       "                        <th id=\"T_a0c0e342_541a_11ea_9973_42010a8a0002level1_row27\" class=\"row_heading level1 row27\" >North York</th>\n",
       "                        <td id=\"T_a0c0e342_541a_11ea_9973_42010a8a0002row27_col0\" class=\"data row27 col0\" >Flemingdon Park, Don Mills South</td>\n",
       "            </tr>\n",
       "            <tr>\n",
       "                        <th id=\"T_a0c0e342_541a_11ea_9973_42010a8a0002level0_row28\" class=\"row_heading level0 row28\" >M3H</th>\n",
       "                        <th id=\"T_a0c0e342_541a_11ea_9973_42010a8a0002level1_row28\" class=\"row_heading level1 row28\" >North York</th>\n",
       "                        <td id=\"T_a0c0e342_541a_11ea_9973_42010a8a0002row28_col0\" class=\"data row28 col0\" >Bathurst Manor, Downsview North, Wilson Heights</td>\n",
       "            </tr>\n",
       "            <tr>\n",
       "                        <th id=\"T_a0c0e342_541a_11ea_9973_42010a8a0002level0_row29\" class=\"row_heading level0 row29\" >M3J</th>\n",
       "                        <th id=\"T_a0c0e342_541a_11ea_9973_42010a8a0002level1_row29\" class=\"row_heading level1 row29\" >North York</th>\n",
       "                        <td id=\"T_a0c0e342_541a_11ea_9973_42010a8a0002row29_col0\" class=\"data row29 col0\" >Northwood Park, York University</td>\n",
       "            </tr>\n",
       "            <tr>\n",
       "                        <th id=\"T_a0c0e342_541a_11ea_9973_42010a8a0002level0_row30\" class=\"row_heading level0 row30\" >M3K</th>\n",
       "                        <th id=\"T_a0c0e342_541a_11ea_9973_42010a8a0002level1_row30\" class=\"row_heading level1 row30\" >North York</th>\n",
       "                        <td id=\"T_a0c0e342_541a_11ea_9973_42010a8a0002row30_col0\" class=\"data row30 col0\" >CFB Toronto, Downsview East</td>\n",
       "            </tr>\n",
       "            <tr>\n",
       "                        <th id=\"T_a0c0e342_541a_11ea_9973_42010a8a0002level0_row31\" class=\"row_heading level0 row31\" >M3L</th>\n",
       "                        <th id=\"T_a0c0e342_541a_11ea_9973_42010a8a0002level1_row31\" class=\"row_heading level1 row31\" >North York</th>\n",
       "                        <td id=\"T_a0c0e342_541a_11ea_9973_42010a8a0002row31_col0\" class=\"data row31 col0\" >Downsview West</td>\n",
       "            </tr>\n",
       "            <tr>\n",
       "                        <th id=\"T_a0c0e342_541a_11ea_9973_42010a8a0002level0_row32\" class=\"row_heading level0 row32\" >M3M</th>\n",
       "                        <th id=\"T_a0c0e342_541a_11ea_9973_42010a8a0002level1_row32\" class=\"row_heading level1 row32\" >North York</th>\n",
       "                        <td id=\"T_a0c0e342_541a_11ea_9973_42010a8a0002row32_col0\" class=\"data row32 col0\" >Downsview Central</td>\n",
       "            </tr>\n",
       "            <tr>\n",
       "                        <th id=\"T_a0c0e342_541a_11ea_9973_42010a8a0002level0_row33\" class=\"row_heading level0 row33\" >M3N</th>\n",
       "                        <th id=\"T_a0c0e342_541a_11ea_9973_42010a8a0002level1_row33\" class=\"row_heading level1 row33\" >North York</th>\n",
       "                        <td id=\"T_a0c0e342_541a_11ea_9973_42010a8a0002row33_col0\" class=\"data row33 col0\" >Downsview Northwest</td>\n",
       "            </tr>\n",
       "            <tr>\n",
       "                        <th id=\"T_a0c0e342_541a_11ea_9973_42010a8a0002level0_row34\" class=\"row_heading level0 row34\" >M4A</th>\n",
       "                        <th id=\"T_a0c0e342_541a_11ea_9973_42010a8a0002level1_row34\" class=\"row_heading level1 row34\" >North York</th>\n",
       "                        <td id=\"T_a0c0e342_541a_11ea_9973_42010a8a0002row34_col0\" class=\"data row34 col0\" >Victoria Village</td>\n",
       "            </tr>\n",
       "            <tr>\n",
       "                        <th id=\"T_a0c0e342_541a_11ea_9973_42010a8a0002level0_row35\" class=\"row_heading level0 row35\" >M4B</th>\n",
       "                        <th id=\"T_a0c0e342_541a_11ea_9973_42010a8a0002level1_row35\" class=\"row_heading level1 row35\" >East York</th>\n",
       "                        <td id=\"T_a0c0e342_541a_11ea_9973_42010a8a0002row35_col0\" class=\"data row35 col0\" >Woodbine Gardens, Parkview Hill</td>\n",
       "            </tr>\n",
       "            <tr>\n",
       "                        <th id=\"T_a0c0e342_541a_11ea_9973_42010a8a0002level0_row36\" class=\"row_heading level0 row36\" >M4C</th>\n",
       "                        <th id=\"T_a0c0e342_541a_11ea_9973_42010a8a0002level1_row36\" class=\"row_heading level1 row36\" >East York</th>\n",
       "                        <td id=\"T_a0c0e342_541a_11ea_9973_42010a8a0002row36_col0\" class=\"data row36 col0\" >Woodbine Heights</td>\n",
       "            </tr>\n",
       "            <tr>\n",
       "                        <th id=\"T_a0c0e342_541a_11ea_9973_42010a8a0002level0_row37\" class=\"row_heading level0 row37\" >M4E</th>\n",
       "                        <th id=\"T_a0c0e342_541a_11ea_9973_42010a8a0002level1_row37\" class=\"row_heading level1 row37\" >East Toronto</th>\n",
       "                        <td id=\"T_a0c0e342_541a_11ea_9973_42010a8a0002row37_col0\" class=\"data row37 col0\" >The Beaches</td>\n",
       "            </tr>\n",
       "            <tr>\n",
       "                        <th id=\"T_a0c0e342_541a_11ea_9973_42010a8a0002level0_row38\" class=\"row_heading level0 row38\" >M4G</th>\n",
       "                        <th id=\"T_a0c0e342_541a_11ea_9973_42010a8a0002level1_row38\" class=\"row_heading level1 row38\" >East York</th>\n",
       "                        <td id=\"T_a0c0e342_541a_11ea_9973_42010a8a0002row38_col0\" class=\"data row38 col0\" >Leaside</td>\n",
       "            </tr>\n",
       "            <tr>\n",
       "                        <th id=\"T_a0c0e342_541a_11ea_9973_42010a8a0002level0_row39\" class=\"row_heading level0 row39\" >M4H</th>\n",
       "                        <th id=\"T_a0c0e342_541a_11ea_9973_42010a8a0002level1_row39\" class=\"row_heading level1 row39\" >East York</th>\n",
       "                        <td id=\"T_a0c0e342_541a_11ea_9973_42010a8a0002row39_col0\" class=\"data row39 col0\" >Thorncliffe Park</td>\n",
       "            </tr>\n",
       "            <tr>\n",
       "                        <th id=\"T_a0c0e342_541a_11ea_9973_42010a8a0002level0_row40\" class=\"row_heading level0 row40\" >M4J</th>\n",
       "                        <th id=\"T_a0c0e342_541a_11ea_9973_42010a8a0002level1_row40\" class=\"row_heading level1 row40\" >East York</th>\n",
       "                        <td id=\"T_a0c0e342_541a_11ea_9973_42010a8a0002row40_col0\" class=\"data row40 col0\" >East Toronto</td>\n",
       "            </tr>\n",
       "            <tr>\n",
       "                        <th id=\"T_a0c0e342_541a_11ea_9973_42010a8a0002level0_row41\" class=\"row_heading level0 row41\" >M4K</th>\n",
       "                        <th id=\"T_a0c0e342_541a_11ea_9973_42010a8a0002level1_row41\" class=\"row_heading level1 row41\" >East Toronto</th>\n",
       "                        <td id=\"T_a0c0e342_541a_11ea_9973_42010a8a0002row41_col0\" class=\"data row41 col0\" >The Danforth West, Riverdale</td>\n",
       "            </tr>\n",
       "            <tr>\n",
       "                        <th id=\"T_a0c0e342_541a_11ea_9973_42010a8a0002level0_row42\" class=\"row_heading level0 row42\" >M4L</th>\n",
       "                        <th id=\"T_a0c0e342_541a_11ea_9973_42010a8a0002level1_row42\" class=\"row_heading level1 row42\" >East Toronto</th>\n",
       "                        <td id=\"T_a0c0e342_541a_11ea_9973_42010a8a0002row42_col0\" class=\"data row42 col0\" >The Beaches West, India Bazaar</td>\n",
       "            </tr>\n",
       "            <tr>\n",
       "                        <th id=\"T_a0c0e342_541a_11ea_9973_42010a8a0002level0_row43\" class=\"row_heading level0 row43\" >M4M</th>\n",
       "                        <th id=\"T_a0c0e342_541a_11ea_9973_42010a8a0002level1_row43\" class=\"row_heading level1 row43\" >East Toronto</th>\n",
       "                        <td id=\"T_a0c0e342_541a_11ea_9973_42010a8a0002row43_col0\" class=\"data row43 col0\" >Studio District</td>\n",
       "            </tr>\n",
       "            <tr>\n",
       "                        <th id=\"T_a0c0e342_541a_11ea_9973_42010a8a0002level0_row44\" class=\"row_heading level0 row44\" >M4N</th>\n",
       "                        <th id=\"T_a0c0e342_541a_11ea_9973_42010a8a0002level1_row44\" class=\"row_heading level1 row44\" >Central Toronto</th>\n",
       "                        <td id=\"T_a0c0e342_541a_11ea_9973_42010a8a0002row44_col0\" class=\"data row44 col0\" >Lawrence Park</td>\n",
       "            </tr>\n",
       "            <tr>\n",
       "                        <th id=\"T_a0c0e342_541a_11ea_9973_42010a8a0002level0_row45\" class=\"row_heading level0 row45\" >M4P</th>\n",
       "                        <th id=\"T_a0c0e342_541a_11ea_9973_42010a8a0002level1_row45\" class=\"row_heading level1 row45\" >Central Toronto</th>\n",
       "                        <td id=\"T_a0c0e342_541a_11ea_9973_42010a8a0002row45_col0\" class=\"data row45 col0\" >Davisville North</td>\n",
       "            </tr>\n",
       "            <tr>\n",
       "                        <th id=\"T_a0c0e342_541a_11ea_9973_42010a8a0002level0_row46\" class=\"row_heading level0 row46\" >M4R</th>\n",
       "                        <th id=\"T_a0c0e342_541a_11ea_9973_42010a8a0002level1_row46\" class=\"row_heading level1 row46\" >Central Toronto</th>\n",
       "                        <td id=\"T_a0c0e342_541a_11ea_9973_42010a8a0002row46_col0\" class=\"data row46 col0\" >North Toronto West</td>\n",
       "            </tr>\n",
       "            <tr>\n",
       "                        <th id=\"T_a0c0e342_541a_11ea_9973_42010a8a0002level0_row47\" class=\"row_heading level0 row47\" >M4S</th>\n",
       "                        <th id=\"T_a0c0e342_541a_11ea_9973_42010a8a0002level1_row47\" class=\"row_heading level1 row47\" >Central Toronto</th>\n",
       "                        <td id=\"T_a0c0e342_541a_11ea_9973_42010a8a0002row47_col0\" class=\"data row47 col0\" >Davisville</td>\n",
       "            </tr>\n",
       "            <tr>\n",
       "                        <th id=\"T_a0c0e342_541a_11ea_9973_42010a8a0002level0_row48\" class=\"row_heading level0 row48\" >M4T</th>\n",
       "                        <th id=\"T_a0c0e342_541a_11ea_9973_42010a8a0002level1_row48\" class=\"row_heading level1 row48\" >Central Toronto</th>\n",
       "                        <td id=\"T_a0c0e342_541a_11ea_9973_42010a8a0002row48_col0\" class=\"data row48 col0\" >Moore Park, Summerhill East</td>\n",
       "            </tr>\n",
       "            <tr>\n",
       "                        <th id=\"T_a0c0e342_541a_11ea_9973_42010a8a0002level0_row49\" class=\"row_heading level0 row49\" >M4V</th>\n",
       "                        <th id=\"T_a0c0e342_541a_11ea_9973_42010a8a0002level1_row49\" class=\"row_heading level1 row49\" >Central Toronto</th>\n",
       "                        <td id=\"T_a0c0e342_541a_11ea_9973_42010a8a0002row49_col0\" class=\"data row49 col0\" >Deer Park, Forest Hill SE, Rathnelly, South Hill, Summerhill West</td>\n",
       "            </tr>\n",
       "            <tr>\n",
       "                        <th id=\"T_a0c0e342_541a_11ea_9973_42010a8a0002level0_row50\" class=\"row_heading level0 row50\" >M4W</th>\n",
       "                        <th id=\"T_a0c0e342_541a_11ea_9973_42010a8a0002level1_row50\" class=\"row_heading level1 row50\" >Downtown Toronto</th>\n",
       "                        <td id=\"T_a0c0e342_541a_11ea_9973_42010a8a0002row50_col0\" class=\"data row50 col0\" >Rosedale</td>\n",
       "            </tr>\n",
       "            <tr>\n",
       "                        <th id=\"T_a0c0e342_541a_11ea_9973_42010a8a0002level0_row51\" class=\"row_heading level0 row51\" >M4X</th>\n",
       "                        <th id=\"T_a0c0e342_541a_11ea_9973_42010a8a0002level1_row51\" class=\"row_heading level1 row51\" >Downtown Toronto</th>\n",
       "                        <td id=\"T_a0c0e342_541a_11ea_9973_42010a8a0002row51_col0\" class=\"data row51 col0\" >Cabbagetown, St. James Town</td>\n",
       "            </tr>\n",
       "            <tr>\n",
       "                        <th id=\"T_a0c0e342_541a_11ea_9973_42010a8a0002level0_row52\" class=\"row_heading level0 row52\" >M4Y</th>\n",
       "                        <th id=\"T_a0c0e342_541a_11ea_9973_42010a8a0002level1_row52\" class=\"row_heading level1 row52\" >Downtown Toronto</th>\n",
       "                        <td id=\"T_a0c0e342_541a_11ea_9973_42010a8a0002row52_col0\" class=\"data row52 col0\" >Church and Wellesley</td>\n",
       "            </tr>\n",
       "            <tr>\n",
       "                        <th id=\"T_a0c0e342_541a_11ea_9973_42010a8a0002level0_row53\" class=\"row_heading level0 row53\" >M5A</th>\n",
       "                        <th id=\"T_a0c0e342_541a_11ea_9973_42010a8a0002level1_row53\" class=\"row_heading level1 row53\" >Downtown Toronto</th>\n",
       "                        <td id=\"T_a0c0e342_541a_11ea_9973_42010a8a0002row53_col0\" class=\"data row53 col0\" >Harbourfront</td>\n",
       "            </tr>\n",
       "            <tr>\n",
       "                        <th id=\"T_a0c0e342_541a_11ea_9973_42010a8a0002level0_row54\" class=\"row_heading level0 row54\" >M5B</th>\n",
       "                        <th id=\"T_a0c0e342_541a_11ea_9973_42010a8a0002level1_row54\" class=\"row_heading level1 row54\" >Downtown Toronto</th>\n",
       "                        <td id=\"T_a0c0e342_541a_11ea_9973_42010a8a0002row54_col0\" class=\"data row54 col0\" >Ryerson, Garden District</td>\n",
       "            </tr>\n",
       "            <tr>\n",
       "                        <th id=\"T_a0c0e342_541a_11ea_9973_42010a8a0002level0_row55\" class=\"row_heading level0 row55\" >M5C</th>\n",
       "                        <th id=\"T_a0c0e342_541a_11ea_9973_42010a8a0002level1_row55\" class=\"row_heading level1 row55\" >Downtown Toronto</th>\n",
       "                        <td id=\"T_a0c0e342_541a_11ea_9973_42010a8a0002row55_col0\" class=\"data row55 col0\" >St. James Town</td>\n",
       "            </tr>\n",
       "            <tr>\n",
       "                        <th id=\"T_a0c0e342_541a_11ea_9973_42010a8a0002level0_row56\" class=\"row_heading level0 row56\" >M5E</th>\n",
       "                        <th id=\"T_a0c0e342_541a_11ea_9973_42010a8a0002level1_row56\" class=\"row_heading level1 row56\" >Downtown Toronto</th>\n",
       "                        <td id=\"T_a0c0e342_541a_11ea_9973_42010a8a0002row56_col0\" class=\"data row56 col0\" >Berczy Park</td>\n",
       "            </tr>\n",
       "            <tr>\n",
       "                        <th id=\"T_a0c0e342_541a_11ea_9973_42010a8a0002level0_row57\" class=\"row_heading level0 row57\" >M5G</th>\n",
       "                        <th id=\"T_a0c0e342_541a_11ea_9973_42010a8a0002level1_row57\" class=\"row_heading level1 row57\" >Downtown Toronto</th>\n",
       "                        <td id=\"T_a0c0e342_541a_11ea_9973_42010a8a0002row57_col0\" class=\"data row57 col0\" >Central Bay Street</td>\n",
       "            </tr>\n",
       "            <tr>\n",
       "                        <th id=\"T_a0c0e342_541a_11ea_9973_42010a8a0002level0_row58\" class=\"row_heading level0 row58\" >M5H</th>\n",
       "                        <th id=\"T_a0c0e342_541a_11ea_9973_42010a8a0002level1_row58\" class=\"row_heading level1 row58\" >Downtown Toronto</th>\n",
       "                        <td id=\"T_a0c0e342_541a_11ea_9973_42010a8a0002row58_col0\" class=\"data row58 col0\" >Adelaide, King, Richmond</td>\n",
       "            </tr>\n",
       "            <tr>\n",
       "                        <th id=\"T_a0c0e342_541a_11ea_9973_42010a8a0002level0_row59\" class=\"row_heading level0 row59\" >M5J</th>\n",
       "                        <th id=\"T_a0c0e342_541a_11ea_9973_42010a8a0002level1_row59\" class=\"row_heading level1 row59\" >Downtown Toronto</th>\n",
       "                        <td id=\"T_a0c0e342_541a_11ea_9973_42010a8a0002row59_col0\" class=\"data row59 col0\" >Harbourfront East, Toronto Islands, Union Station</td>\n",
       "            </tr>\n",
       "            <tr>\n",
       "                        <th id=\"T_a0c0e342_541a_11ea_9973_42010a8a0002level0_row60\" class=\"row_heading level0 row60\" >M5K</th>\n",
       "                        <th id=\"T_a0c0e342_541a_11ea_9973_42010a8a0002level1_row60\" class=\"row_heading level1 row60\" >Downtown Toronto</th>\n",
       "                        <td id=\"T_a0c0e342_541a_11ea_9973_42010a8a0002row60_col0\" class=\"data row60 col0\" >Design Exchange, Toronto Dominion Centre</td>\n",
       "            </tr>\n",
       "            <tr>\n",
       "                        <th id=\"T_a0c0e342_541a_11ea_9973_42010a8a0002level0_row61\" class=\"row_heading level0 row61\" >M5L</th>\n",
       "                        <th id=\"T_a0c0e342_541a_11ea_9973_42010a8a0002level1_row61\" class=\"row_heading level1 row61\" >Downtown Toronto</th>\n",
       "                        <td id=\"T_a0c0e342_541a_11ea_9973_42010a8a0002row61_col0\" class=\"data row61 col0\" >Commerce Court, Victoria Hotel</td>\n",
       "            </tr>\n",
       "            <tr>\n",
       "                        <th id=\"T_a0c0e342_541a_11ea_9973_42010a8a0002level0_row62\" class=\"row_heading level0 row62\" >M5M</th>\n",
       "                        <th id=\"T_a0c0e342_541a_11ea_9973_42010a8a0002level1_row62\" class=\"row_heading level1 row62\" >North York</th>\n",
       "                        <td id=\"T_a0c0e342_541a_11ea_9973_42010a8a0002row62_col0\" class=\"data row62 col0\" >Bedford Park, Lawrence Manor East</td>\n",
       "            </tr>\n",
       "            <tr>\n",
       "                        <th id=\"T_a0c0e342_541a_11ea_9973_42010a8a0002level0_row63\" class=\"row_heading level0 row63\" >M5N</th>\n",
       "                        <th id=\"T_a0c0e342_541a_11ea_9973_42010a8a0002level1_row63\" class=\"row_heading level1 row63\" >Central Toronto</th>\n",
       "                        <td id=\"T_a0c0e342_541a_11ea_9973_42010a8a0002row63_col0\" class=\"data row63 col0\" >Roselawn</td>\n",
       "            </tr>\n",
       "            <tr>\n",
       "                        <th id=\"T_a0c0e342_541a_11ea_9973_42010a8a0002level0_row64\" class=\"row_heading level0 row64\" >M5P</th>\n",
       "                        <th id=\"T_a0c0e342_541a_11ea_9973_42010a8a0002level1_row64\" class=\"row_heading level1 row64\" >Central Toronto</th>\n",
       "                        <td id=\"T_a0c0e342_541a_11ea_9973_42010a8a0002row64_col0\" class=\"data row64 col0\" >Forest Hill North, Forest Hill West</td>\n",
       "            </tr>\n",
       "            <tr>\n",
       "                        <th id=\"T_a0c0e342_541a_11ea_9973_42010a8a0002level0_row65\" class=\"row_heading level0 row65\" >M5R</th>\n",
       "                        <th id=\"T_a0c0e342_541a_11ea_9973_42010a8a0002level1_row65\" class=\"row_heading level1 row65\" >Central Toronto</th>\n",
       "                        <td id=\"T_a0c0e342_541a_11ea_9973_42010a8a0002row65_col0\" class=\"data row65 col0\" >The Annex, North Midtown, Yorkville</td>\n",
       "            </tr>\n",
       "            <tr>\n",
       "                        <th id=\"T_a0c0e342_541a_11ea_9973_42010a8a0002level0_row66\" class=\"row_heading level0 row66\" >M5S</th>\n",
       "                        <th id=\"T_a0c0e342_541a_11ea_9973_42010a8a0002level1_row66\" class=\"row_heading level1 row66\" >Downtown Toronto</th>\n",
       "                        <td id=\"T_a0c0e342_541a_11ea_9973_42010a8a0002row66_col0\" class=\"data row66 col0\" >Harbord, University of Toronto</td>\n",
       "            </tr>\n",
       "            <tr>\n",
       "                        <th id=\"T_a0c0e342_541a_11ea_9973_42010a8a0002level0_row67\" class=\"row_heading level0 row67\" >M5T</th>\n",
       "                        <th id=\"T_a0c0e342_541a_11ea_9973_42010a8a0002level1_row67\" class=\"row_heading level1 row67\" >Downtown Toronto</th>\n",
       "                        <td id=\"T_a0c0e342_541a_11ea_9973_42010a8a0002row67_col0\" class=\"data row67 col0\" >Chinatown, Grange Park, Kensington Market</td>\n",
       "            </tr>\n",
       "            <tr>\n",
       "                        <th id=\"T_a0c0e342_541a_11ea_9973_42010a8a0002level0_row68\" class=\"row_heading level0 row68\" >M5V</th>\n",
       "                        <th id=\"T_a0c0e342_541a_11ea_9973_42010a8a0002level1_row68\" class=\"row_heading level1 row68\" >Downtown Toronto</th>\n",
       "                        <td id=\"T_a0c0e342_541a_11ea_9973_42010a8a0002row68_col0\" class=\"data row68 col0\" >CN Tower, Bathurst Quay, Island airport, Harbourfront West, King and Spadina, Railway Lands, South Niagara</td>\n",
       "            </tr>\n",
       "            <tr>\n",
       "                        <th id=\"T_a0c0e342_541a_11ea_9973_42010a8a0002level0_row69\" class=\"row_heading level0 row69\" >M5W</th>\n",
       "                        <th id=\"T_a0c0e342_541a_11ea_9973_42010a8a0002level1_row69\" class=\"row_heading level1 row69\" >Downtown Toronto</th>\n",
       "                        <td id=\"T_a0c0e342_541a_11ea_9973_42010a8a0002row69_col0\" class=\"data row69 col0\" >Stn A PO Boxes 25 The Esplanade</td>\n",
       "            </tr>\n",
       "            <tr>\n",
       "                        <th id=\"T_a0c0e342_541a_11ea_9973_42010a8a0002level0_row70\" class=\"row_heading level0 row70\" >M5X</th>\n",
       "                        <th id=\"T_a0c0e342_541a_11ea_9973_42010a8a0002level1_row70\" class=\"row_heading level1 row70\" >Downtown Toronto</th>\n",
       "                        <td id=\"T_a0c0e342_541a_11ea_9973_42010a8a0002row70_col0\" class=\"data row70 col0\" >First Canadian Place, Underground city</td>\n",
       "            </tr>\n",
       "            <tr>\n",
       "                        <th id=\"T_a0c0e342_541a_11ea_9973_42010a8a0002level0_row71\" class=\"row_heading level0 row71\" >M6A</th>\n",
       "                        <th id=\"T_a0c0e342_541a_11ea_9973_42010a8a0002level1_row71\" class=\"row_heading level1 row71\" >North York</th>\n",
       "                        <td id=\"T_a0c0e342_541a_11ea_9973_42010a8a0002row71_col0\" class=\"data row71 col0\" >Lawrence Heights, Lawrence Manor</td>\n",
       "            </tr>\n",
       "            <tr>\n",
       "                        <th id=\"T_a0c0e342_541a_11ea_9973_42010a8a0002level0_row72\" class=\"row_heading level0 row72\" >M6B</th>\n",
       "                        <th id=\"T_a0c0e342_541a_11ea_9973_42010a8a0002level1_row72\" class=\"row_heading level1 row72\" >North York</th>\n",
       "                        <td id=\"T_a0c0e342_541a_11ea_9973_42010a8a0002row72_col0\" class=\"data row72 col0\" >Glencairn</td>\n",
       "            </tr>\n",
       "            <tr>\n",
       "                        <th id=\"T_a0c0e342_541a_11ea_9973_42010a8a0002level0_row73\" class=\"row_heading level0 row73\" >M6C</th>\n",
       "                        <th id=\"T_a0c0e342_541a_11ea_9973_42010a8a0002level1_row73\" class=\"row_heading level1 row73\" >York</th>\n",
       "                        <td id=\"T_a0c0e342_541a_11ea_9973_42010a8a0002row73_col0\" class=\"data row73 col0\" >Humewood-Cedarvale</td>\n",
       "            </tr>\n",
       "            <tr>\n",
       "                        <th id=\"T_a0c0e342_541a_11ea_9973_42010a8a0002level0_row74\" class=\"row_heading level0 row74\" >M6E</th>\n",
       "                        <th id=\"T_a0c0e342_541a_11ea_9973_42010a8a0002level1_row74\" class=\"row_heading level1 row74\" >York</th>\n",
       "                        <td id=\"T_a0c0e342_541a_11ea_9973_42010a8a0002row74_col0\" class=\"data row74 col0\" >Caledonia-Fairbanks</td>\n",
       "            </tr>\n",
       "            <tr>\n",
       "                        <th id=\"T_a0c0e342_541a_11ea_9973_42010a8a0002level0_row75\" class=\"row_heading level0 row75\" >M6G</th>\n",
       "                        <th id=\"T_a0c0e342_541a_11ea_9973_42010a8a0002level1_row75\" class=\"row_heading level1 row75\" >Downtown Toronto</th>\n",
       "                        <td id=\"T_a0c0e342_541a_11ea_9973_42010a8a0002row75_col0\" class=\"data row75 col0\" >Christie</td>\n",
       "            </tr>\n",
       "            <tr>\n",
       "                        <th id=\"T_a0c0e342_541a_11ea_9973_42010a8a0002level0_row76\" class=\"row_heading level0 row76\" >M6H</th>\n",
       "                        <th id=\"T_a0c0e342_541a_11ea_9973_42010a8a0002level1_row76\" class=\"row_heading level1 row76\" >West Toronto</th>\n",
       "                        <td id=\"T_a0c0e342_541a_11ea_9973_42010a8a0002row76_col0\" class=\"data row76 col0\" >Dovercourt Village, Dufferin</td>\n",
       "            </tr>\n",
       "            <tr>\n",
       "                        <th id=\"T_a0c0e342_541a_11ea_9973_42010a8a0002level0_row77\" class=\"row_heading level0 row77\" >M6J</th>\n",
       "                        <th id=\"T_a0c0e342_541a_11ea_9973_42010a8a0002level1_row77\" class=\"row_heading level1 row77\" >West Toronto</th>\n",
       "                        <td id=\"T_a0c0e342_541a_11ea_9973_42010a8a0002row77_col0\" class=\"data row77 col0\" >Little Portugal, Trinity</td>\n",
       "            </tr>\n",
       "            <tr>\n",
       "                        <th id=\"T_a0c0e342_541a_11ea_9973_42010a8a0002level0_row78\" class=\"row_heading level0 row78\" >M6K</th>\n",
       "                        <th id=\"T_a0c0e342_541a_11ea_9973_42010a8a0002level1_row78\" class=\"row_heading level1 row78\" >West Toronto</th>\n",
       "                        <td id=\"T_a0c0e342_541a_11ea_9973_42010a8a0002row78_col0\" class=\"data row78 col0\" >Brockton, Exhibition Place, Parkdale Village</td>\n",
       "            </tr>\n",
       "            <tr>\n",
       "                        <th id=\"T_a0c0e342_541a_11ea_9973_42010a8a0002level0_row79\" class=\"row_heading level0 row79\" >M6L</th>\n",
       "                        <th id=\"T_a0c0e342_541a_11ea_9973_42010a8a0002level1_row79\" class=\"row_heading level1 row79\" >North York</th>\n",
       "                        <td id=\"T_a0c0e342_541a_11ea_9973_42010a8a0002row79_col0\" class=\"data row79 col0\" >Downsview, North Park, Upwood Park</td>\n",
       "            </tr>\n",
       "            <tr>\n",
       "                        <th id=\"T_a0c0e342_541a_11ea_9973_42010a8a0002level0_row80\" class=\"row_heading level0 row80\" >M6M</th>\n",
       "                        <th id=\"T_a0c0e342_541a_11ea_9973_42010a8a0002level1_row80\" class=\"row_heading level1 row80\" >York</th>\n",
       "                        <td id=\"T_a0c0e342_541a_11ea_9973_42010a8a0002row80_col0\" class=\"data row80 col0\" >Del Ray, Keelesdale, Mount Dennis, Silverthorn</td>\n",
       "            </tr>\n",
       "            <tr>\n",
       "                        <th id=\"T_a0c0e342_541a_11ea_9973_42010a8a0002level0_row81\" class=\"row_heading level0 row81\" >M6N</th>\n",
       "                        <th id=\"T_a0c0e342_541a_11ea_9973_42010a8a0002level1_row81\" class=\"row_heading level1 row81\" >York</th>\n",
       "                        <td id=\"T_a0c0e342_541a_11ea_9973_42010a8a0002row81_col0\" class=\"data row81 col0\" >The Junction North, Runnymede</td>\n",
       "            </tr>\n",
       "            <tr>\n",
       "                        <th id=\"T_a0c0e342_541a_11ea_9973_42010a8a0002level0_row82\" class=\"row_heading level0 row82\" >M6P</th>\n",
       "                        <th id=\"T_a0c0e342_541a_11ea_9973_42010a8a0002level1_row82\" class=\"row_heading level1 row82\" >West Toronto</th>\n",
       "                        <td id=\"T_a0c0e342_541a_11ea_9973_42010a8a0002row82_col0\" class=\"data row82 col0\" >High Park, The Junction South</td>\n",
       "            </tr>\n",
       "            <tr>\n",
       "                        <th id=\"T_a0c0e342_541a_11ea_9973_42010a8a0002level0_row83\" class=\"row_heading level0 row83\" >M6R</th>\n",
       "                        <th id=\"T_a0c0e342_541a_11ea_9973_42010a8a0002level1_row83\" class=\"row_heading level1 row83\" >West Toronto</th>\n",
       "                        <td id=\"T_a0c0e342_541a_11ea_9973_42010a8a0002row83_col0\" class=\"data row83 col0\" >Parkdale, Roncesvalles</td>\n",
       "            </tr>\n",
       "            <tr>\n",
       "                        <th id=\"T_a0c0e342_541a_11ea_9973_42010a8a0002level0_row84\" class=\"row_heading level0 row84\" >M6S</th>\n",
       "                        <th id=\"T_a0c0e342_541a_11ea_9973_42010a8a0002level1_row84\" class=\"row_heading level1 row84\" >West Toronto</th>\n",
       "                        <td id=\"T_a0c0e342_541a_11ea_9973_42010a8a0002row84_col0\" class=\"data row84 col0\" >Runnymede, Swansea</td>\n",
       "            </tr>\n",
       "            <tr>\n",
       "                        <th id=\"T_a0c0e342_541a_11ea_9973_42010a8a0002level0_row85\" class=\"row_heading level0 row85\" >M7A</th>\n",
       "                        <th id=\"T_a0c0e342_541a_11ea_9973_42010a8a0002level1_row85\" class=\"row_heading level1 row85\" >Downtown Toronto</th>\n",
       "                        <td id=\"T_a0c0e342_541a_11ea_9973_42010a8a0002row85_col0\" class=\"data row85 col0\" >Queen's Park</td>\n",
       "            </tr>\n",
       "            <tr>\n",
       "                        <th id=\"T_a0c0e342_541a_11ea_9973_42010a8a0002level0_row86\" class=\"row_heading level0 row86\" >M7R</th>\n",
       "                        <th id=\"T_a0c0e342_541a_11ea_9973_42010a8a0002level1_row86\" class=\"row_heading level1 row86\" >Mississauga</th>\n",
       "                        <td id=\"T_a0c0e342_541a_11ea_9973_42010a8a0002row86_col0\" class=\"data row86 col0\" >Canada Post Gateway Processing Centre</td>\n",
       "            </tr>\n",
       "            <tr>\n",
       "                        <th id=\"T_a0c0e342_541a_11ea_9973_42010a8a0002level0_row87\" class=\"row_heading level0 row87\" >M7Y</th>\n",
       "                        <th id=\"T_a0c0e342_541a_11ea_9973_42010a8a0002level1_row87\" class=\"row_heading level1 row87\" >East Toronto</th>\n",
       "                        <td id=\"T_a0c0e342_541a_11ea_9973_42010a8a0002row87_col0\" class=\"data row87 col0\" >Business Reply Mail Processing Centre 969 Eastern</td>\n",
       "            </tr>\n",
       "            <tr>\n",
       "                        <th id=\"T_a0c0e342_541a_11ea_9973_42010a8a0002level0_row88\" class=\"row_heading level0 row88\" >M8V</th>\n",
       "                        <th id=\"T_a0c0e342_541a_11ea_9973_42010a8a0002level1_row88\" class=\"row_heading level1 row88\" >Etobicoke</th>\n",
       "                        <td id=\"T_a0c0e342_541a_11ea_9973_42010a8a0002row88_col0\" class=\"data row88 col0\" >Humber Bay Shores, Mimico South, New Toronto</td>\n",
       "            </tr>\n",
       "            <tr>\n",
       "                        <th id=\"T_a0c0e342_541a_11ea_9973_42010a8a0002level0_row89\" class=\"row_heading level0 row89\" >M8W</th>\n",
       "                        <th id=\"T_a0c0e342_541a_11ea_9973_42010a8a0002level1_row89\" class=\"row_heading level1 row89\" >Etobicoke</th>\n",
       "                        <td id=\"T_a0c0e342_541a_11ea_9973_42010a8a0002row89_col0\" class=\"data row89 col0\" >Alderwood, Long Branch</td>\n",
       "            </tr>\n",
       "            <tr>\n",
       "                        <th id=\"T_a0c0e342_541a_11ea_9973_42010a8a0002level0_row90\" class=\"row_heading level0 row90\" >M8X</th>\n",
       "                        <th id=\"T_a0c0e342_541a_11ea_9973_42010a8a0002level1_row90\" class=\"row_heading level1 row90\" >Etobicoke</th>\n",
       "                        <td id=\"T_a0c0e342_541a_11ea_9973_42010a8a0002row90_col0\" class=\"data row90 col0\" >The Kingsway, Montgomery Road, Old Mill North</td>\n",
       "            </tr>\n",
       "            <tr>\n",
       "                        <th id=\"T_a0c0e342_541a_11ea_9973_42010a8a0002level0_row91\" class=\"row_heading level0 row91\" >M8Y</th>\n",
       "                        <th id=\"T_a0c0e342_541a_11ea_9973_42010a8a0002level1_row91\" class=\"row_heading level1 row91\" >Etobicoke</th>\n",
       "                        <td id=\"T_a0c0e342_541a_11ea_9973_42010a8a0002row91_col0\" class=\"data row91 col0\" >Humber Bay, King's Mill Park, Kingsway Park South East, Mimico NE, Old Mill South, The Queensway East, Royal York South East, Sunnylea</td>\n",
       "            </tr>\n",
       "            <tr>\n",
       "                        <th id=\"T_a0c0e342_541a_11ea_9973_42010a8a0002level0_row92\" class=\"row_heading level0 row92\" >M8Z</th>\n",
       "                        <th id=\"T_a0c0e342_541a_11ea_9973_42010a8a0002level1_row92\" class=\"row_heading level1 row92\" >Etobicoke</th>\n",
       "                        <td id=\"T_a0c0e342_541a_11ea_9973_42010a8a0002row92_col0\" class=\"data row92 col0\" >Kingsway Park South West, Mimico NW, The Queensway West, Royal York South West, South of Bloor</td>\n",
       "            </tr>\n",
       "            <tr>\n",
       "                        <th id=\"T_a0c0e342_541a_11ea_9973_42010a8a0002level0_row93\" class=\"row_heading level0 row93\" >M9A</th>\n",
       "                        <th id=\"T_a0c0e342_541a_11ea_9973_42010a8a0002level1_row93\" class=\"row_heading level1 row93\" >Queen's Park</th>\n",
       "                        <td id=\"T_a0c0e342_541a_11ea_9973_42010a8a0002row93_col0\" class=\"data row93 col0\" >Queen's Park</td>\n",
       "            </tr>\n",
       "            <tr>\n",
       "                        <th id=\"T_a0c0e342_541a_11ea_9973_42010a8a0002level0_row94\" class=\"row_heading level0 row94\" >M9B</th>\n",
       "                        <th id=\"T_a0c0e342_541a_11ea_9973_42010a8a0002level1_row94\" class=\"row_heading level1 row94\" >Etobicoke</th>\n",
       "                        <td id=\"T_a0c0e342_541a_11ea_9973_42010a8a0002row94_col0\" class=\"data row94 col0\" >Cloverdale, Islington, Martin Grove, Princess Gardens, West Deane Park</td>\n",
       "            </tr>\n",
       "            <tr>\n",
       "                        <th id=\"T_a0c0e342_541a_11ea_9973_42010a8a0002level0_row95\" class=\"row_heading level0 row95\" >M9C</th>\n",
       "                        <th id=\"T_a0c0e342_541a_11ea_9973_42010a8a0002level1_row95\" class=\"row_heading level1 row95\" >Etobicoke</th>\n",
       "                        <td id=\"T_a0c0e342_541a_11ea_9973_42010a8a0002row95_col0\" class=\"data row95 col0\" >Bloordale Gardens, Eringate, Markland Wood, Old Burnhamthorpe</td>\n",
       "            </tr>\n",
       "            <tr>\n",
       "                        <th id=\"T_a0c0e342_541a_11ea_9973_42010a8a0002level0_row96\" class=\"row_heading level0 row96\" >M9L</th>\n",
       "                        <th id=\"T_a0c0e342_541a_11ea_9973_42010a8a0002level1_row96\" class=\"row_heading level1 row96\" >North York</th>\n",
       "                        <td id=\"T_a0c0e342_541a_11ea_9973_42010a8a0002row96_col0\" class=\"data row96 col0\" >Humber Summit</td>\n",
       "            </tr>\n",
       "            <tr>\n",
       "                        <th id=\"T_a0c0e342_541a_11ea_9973_42010a8a0002level0_row97\" class=\"row_heading level0 row97\" >M9M</th>\n",
       "                        <th id=\"T_a0c0e342_541a_11ea_9973_42010a8a0002level1_row97\" class=\"row_heading level1 row97\" >North York</th>\n",
       "                        <td id=\"T_a0c0e342_541a_11ea_9973_42010a8a0002row97_col0\" class=\"data row97 col0\" >Emery, Humberlea</td>\n",
       "            </tr>\n",
       "            <tr>\n",
       "                        <th id=\"T_a0c0e342_541a_11ea_9973_42010a8a0002level0_row98\" class=\"row_heading level0 row98\" >M9N</th>\n",
       "                        <th id=\"T_a0c0e342_541a_11ea_9973_42010a8a0002level1_row98\" class=\"row_heading level1 row98\" >York</th>\n",
       "                        <td id=\"T_a0c0e342_541a_11ea_9973_42010a8a0002row98_col0\" class=\"data row98 col0\" >Weston</td>\n",
       "            </tr>\n",
       "            <tr>\n",
       "                        <th id=\"T_a0c0e342_541a_11ea_9973_42010a8a0002level0_row99\" class=\"row_heading level0 row99\" >M9P</th>\n",
       "                        <th id=\"T_a0c0e342_541a_11ea_9973_42010a8a0002level1_row99\" class=\"row_heading level1 row99\" >Etobicoke</th>\n",
       "                        <td id=\"T_a0c0e342_541a_11ea_9973_42010a8a0002row99_col0\" class=\"data row99 col0\" >Westmount</td>\n",
       "            </tr>\n",
       "            <tr>\n",
       "                        <th id=\"T_a0c0e342_541a_11ea_9973_42010a8a0002level0_row100\" class=\"row_heading level0 row100\" >M9R</th>\n",
       "                        <th id=\"T_a0c0e342_541a_11ea_9973_42010a8a0002level1_row100\" class=\"row_heading level1 row100\" >Etobicoke</th>\n",
       "                        <td id=\"T_a0c0e342_541a_11ea_9973_42010a8a0002row100_col0\" class=\"data row100 col0\" >Kingsview Village, Martin Grove Gardens, Richview Gardens, St. Phillips</td>\n",
       "            </tr>\n",
       "            <tr>\n",
       "                        <th id=\"T_a0c0e342_541a_11ea_9973_42010a8a0002level0_row101\" class=\"row_heading level0 row101\" >M9V</th>\n",
       "                        <th id=\"T_a0c0e342_541a_11ea_9973_42010a8a0002level1_row101\" class=\"row_heading level1 row101\" >Etobicoke</th>\n",
       "                        <td id=\"T_a0c0e342_541a_11ea_9973_42010a8a0002row101_col0\" class=\"data row101 col0\" >Albion Gardens, Beaumond Heights, Humbergate, Jamestown, Mount Olive, Silverstone, South Steeles, Thistletown</td>\n",
       "            </tr>\n",
       "            <tr>\n",
       "                        <th id=\"T_a0c0e342_541a_11ea_9973_42010a8a0002level0_row102\" class=\"row_heading level0 row102\" >M9W</th>\n",
       "                        <th id=\"T_a0c0e342_541a_11ea_9973_42010a8a0002level1_row102\" class=\"row_heading level1 row102\" >Etobicoke</th>\n",
       "                        <td id=\"T_a0c0e342_541a_11ea_9973_42010a8a0002row102_col0\" class=\"data row102 col0\" >Northwest</td>\n",
       "            </tr>\n",
       "    </tbody></table>"
      ],
      "text/plain": [
       "<pandas.io.formats.style.Styler at 0x7fef94f67d30>"
      ]
     },
     "execution_count": 406,
     "metadata": {},
     "output_type": "execute_result"
    }
   ],
   "source": [
    "df.style"
   ]
  },
  {
   "cell_type": "code",
   "execution_count": 407,
   "metadata": {},
   "outputs": [
    {
     "data": {
      "text/plain": [
       "(103, 1)"
      ]
     },
     "execution_count": 407,
     "metadata": {},
     "output_type": "execute_result"
    }
   ],
   "source": [
    "df.shape"
   ]
  },
  {
   "cell_type": "code",
   "execution_count": null,
   "metadata": {},
   "outputs": [],
   "source": []
  }
 ],
 "metadata": {
  "kernelspec": {
   "display_name": "Python 3",
   "language": "python",
   "name": "python3"
  },
  "language_info": {
   "codemirror_mode": {
    "name": "ipython",
    "version": 3
   },
   "file_extension": ".py",
   "mimetype": "text/x-python",
   "name": "python",
   "nbconvert_exporter": "python",
   "pygments_lexer": "ipython3",
   "version": "3.5.3"
  }
 },
 "nbformat": 4,
 "nbformat_minor": 4
}
